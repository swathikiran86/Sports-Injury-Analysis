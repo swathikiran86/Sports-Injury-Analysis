{
 "cells": [
  {
   "cell_type": "code",
   "execution_count": 1,
   "metadata": {},
   "outputs": [],
   "source": [
    "import pandas as pd\n",
    "import numpy as np\n",
    "import matplotlib.pyplot as plt"
   ]
  },
  {
   "cell_type": "markdown",
   "metadata": {},
   "source": [
    "<h2>Data Pre- Processing</h2>"
   ]
  },
  {
   "cell_type": "code",
   "execution_count": 2,
   "metadata": {},
   "outputs": [],
   "source": [
    "metrics = pd.read_csv(\"metrics.csv\")"
   ]
  },
  {
   "cell_type": "code",
   "execution_count": 3,
   "metadata": {},
   "outputs": [
    {
     "data": {
      "text/html": [
       "<div>\n",
       "<style scoped>\n",
       "    .dataframe tbody tr th:only-of-type {\n",
       "        vertical-align: middle;\n",
       "    }\n",
       "\n",
       "    .dataframe tbody tr th {\n",
       "        vertical-align: top;\n",
       "    }\n",
       "\n",
       "    .dataframe thead th {\n",
       "        text-align: right;\n",
       "    }\n",
       "</style>\n",
       "<table border=\"1\" class=\"dataframe\">\n",
       "  <thead>\n",
       "    <tr style=\"text-align: right;\">\n",
       "      <th></th>\n",
       "      <th>athlete_id</th>\n",
       "      <th>date</th>\n",
       "      <th>metric</th>\n",
       "      <th>value</th>\n",
       "    </tr>\n",
       "  </thead>\n",
       "  <tbody>\n",
       "    <tr>\n",
       "      <th>0</th>\n",
       "      <td>1</td>\n",
       "      <td>2016-05-01</td>\n",
       "      <td>hip_mobility</td>\n",
       "      <td>36</td>\n",
       "    </tr>\n",
       "    <tr>\n",
       "      <th>1</th>\n",
       "      <td>1</td>\n",
       "      <td>2016-05-02</td>\n",
       "      <td>hip_mobility</td>\n",
       "      <td>36</td>\n",
       "    </tr>\n",
       "    <tr>\n",
       "      <th>2</th>\n",
       "      <td>1</td>\n",
       "      <td>2016-05-03</td>\n",
       "      <td>hip_mobility</td>\n",
       "      <td>56</td>\n",
       "    </tr>\n",
       "    <tr>\n",
       "      <th>3</th>\n",
       "      <td>1</td>\n",
       "      <td>2016-05-04</td>\n",
       "      <td>hip_mobility</td>\n",
       "      <td>24</td>\n",
       "    </tr>\n",
       "    <tr>\n",
       "      <th>4</th>\n",
       "      <td>1</td>\n",
       "      <td>2016-05-05</td>\n",
       "      <td>hip_mobility</td>\n",
       "      <td>35</td>\n",
       "    </tr>\n",
       "  </tbody>\n",
       "</table>\n",
       "</div>"
      ],
      "text/plain": [
       "   athlete_id        date        metric  value\n",
       "0           1  2016-05-01  hip_mobility     36\n",
       "1           1  2016-05-02  hip_mobility     36\n",
       "2           1  2016-05-03  hip_mobility     56\n",
       "3           1  2016-05-04  hip_mobility     24\n",
       "4           1  2016-05-05  hip_mobility     35"
      ]
     },
     "execution_count": 3,
     "metadata": {},
     "output_type": "execute_result"
    }
   ],
   "source": [
    "metrics.head()"
   ]
  },
  {
   "cell_type": "code",
   "execution_count": 4,
   "metadata": {},
   "outputs": [
    {
     "data": {
      "text/html": [
       "<div>\n",
       "<style scoped>\n",
       "    .dataframe tbody tr th:only-of-type {\n",
       "        vertical-align: middle;\n",
       "    }\n",
       "\n",
       "    .dataframe tbody tr th {\n",
       "        vertical-align: top;\n",
       "    }\n",
       "\n",
       "    .dataframe thead th {\n",
       "        text-align: right;\n",
       "    }\n",
       "</style>\n",
       "<table border=\"1\" class=\"dataframe\">\n",
       "  <thead>\n",
       "    <tr style=\"text-align: right;\">\n",
       "      <th></th>\n",
       "      <th>athlete_id</th>\n",
       "      <th>date</th>\n",
       "      <th>metric</th>\n",
       "      <th>value</th>\n",
       "    </tr>\n",
       "  </thead>\n",
       "  <tbody>\n",
       "    <tr>\n",
       "      <th>count</th>\n",
       "      <td>43800.00000</td>\n",
       "      <td>43800</td>\n",
       "      <td>43800</td>\n",
       "      <td>43800.000000</td>\n",
       "    </tr>\n",
       "    <tr>\n",
       "      <th>unique</th>\n",
       "      <td>NaN</td>\n",
       "      <td>730</td>\n",
       "      <td>2</td>\n",
       "      <td>NaN</td>\n",
       "    </tr>\n",
       "    <tr>\n",
       "      <th>top</th>\n",
       "      <td>NaN</td>\n",
       "      <td>2017-11-18</td>\n",
       "      <td>groin_squeeze</td>\n",
       "      <td>NaN</td>\n",
       "    </tr>\n",
       "    <tr>\n",
       "      <th>freq</th>\n",
       "      <td>NaN</td>\n",
       "      <td>60</td>\n",
       "      <td>21900</td>\n",
       "      <td>NaN</td>\n",
       "    </tr>\n",
       "    <tr>\n",
       "      <th>mean</th>\n",
       "      <td>15.50000</td>\n",
       "      <td>NaN</td>\n",
       "      <td>NaN</td>\n",
       "      <td>124.974338</td>\n",
       "    </tr>\n",
       "    <tr>\n",
       "      <th>std</th>\n",
       "      <td>8.65554</td>\n",
       "      <td>NaN</td>\n",
       "      <td>NaN</td>\n",
       "      <td>107.841666</td>\n",
       "    </tr>\n",
       "    <tr>\n",
       "      <th>min</th>\n",
       "      <td>1.00000</td>\n",
       "      <td>NaN</td>\n",
       "      <td>NaN</td>\n",
       "      <td>-108.000000</td>\n",
       "    </tr>\n",
       "    <tr>\n",
       "      <th>25%</th>\n",
       "      <td>8.00000</td>\n",
       "      <td>NaN</td>\n",
       "      <td>NaN</td>\n",
       "      <td>39.000000</td>\n",
       "    </tr>\n",
       "    <tr>\n",
       "      <th>50%</th>\n",
       "      <td>15.50000</td>\n",
       "      <td>NaN</td>\n",
       "      <td>NaN</td>\n",
       "      <td>56.000000</td>\n",
       "    </tr>\n",
       "    <tr>\n",
       "      <th>75%</th>\n",
       "      <td>23.00000</td>\n",
       "      <td>NaN</td>\n",
       "      <td>NaN</td>\n",
       "      <td>213.000000</td>\n",
       "    </tr>\n",
       "    <tr>\n",
       "      <th>max</th>\n",
       "      <td>30.00000</td>\n",
       "      <td>NaN</td>\n",
       "      <td>NaN</td>\n",
       "      <td>487.000000</td>\n",
       "    </tr>\n",
       "  </tbody>\n",
       "</table>\n",
       "</div>"
      ],
      "text/plain": [
       "         athlete_id        date         metric         value\n",
       "count   43800.00000       43800          43800  43800.000000\n",
       "unique          NaN         730              2           NaN\n",
       "top             NaN  2017-11-18  groin_squeeze           NaN\n",
       "freq            NaN          60          21900           NaN\n",
       "mean       15.50000         NaN            NaN    124.974338\n",
       "std         8.65554         NaN            NaN    107.841666\n",
       "min         1.00000         NaN            NaN   -108.000000\n",
       "25%         8.00000         NaN            NaN     39.000000\n",
       "50%        15.50000         NaN            NaN     56.000000\n",
       "75%        23.00000         NaN            NaN    213.000000\n",
       "max        30.00000         NaN            NaN    487.000000"
      ]
     },
     "execution_count": 4,
     "metadata": {},
     "output_type": "execute_result"
    }
   ],
   "source": [
    "metrics.describe(include='all')"
   ]
  },
  {
   "cell_type": "code",
   "execution_count": 5,
   "metadata": {},
   "outputs": [
    {
     "data": {
      "text/plain": [
       "athlete_id     int64\n",
       "date          object\n",
       "metric        object\n",
       "value          int64\n",
       "dtype: object"
      ]
     },
     "execution_count": 5,
     "metadata": {},
     "output_type": "execute_result"
    }
   ],
   "source": [
    "metrics.dtypes"
   ]
  },
  {
   "cell_type": "code",
   "execution_count": 6,
   "metadata": {},
   "outputs": [
    {
     "data": {
      "text/plain": [
       "athlete_id             int64\n",
       "date          datetime64[ns]\n",
       "metric                object\n",
       "value                  int64\n",
       "dtype: object"
      ]
     },
     "execution_count": 6,
     "metadata": {},
     "output_type": "execute_result"
    }
   ],
   "source": [
    "metrics['date'] = metrics['date'].astype('datetime64[ns]')\n",
    "metrics.dtypes"
   ]
  },
  {
   "cell_type": "code",
   "execution_count": 7,
   "metadata": {},
   "outputs": [],
   "source": [
    "workload = pd.read_csv(\"game_workload.csv\")"
   ]
  },
  {
   "cell_type": "code",
   "execution_count": 8,
   "metadata": {},
   "outputs": [
    {
     "data": {
      "text/html": [
       "<div>\n",
       "<style scoped>\n",
       "    .dataframe tbody tr th:only-of-type {\n",
       "        vertical-align: middle;\n",
       "    }\n",
       "\n",
       "    .dataframe tbody tr th {\n",
       "        vertical-align: top;\n",
       "    }\n",
       "\n",
       "    .dataframe thead th {\n",
       "        text-align: right;\n",
       "    }\n",
       "</style>\n",
       "<table border=\"1\" class=\"dataframe\">\n",
       "  <thead>\n",
       "    <tr style=\"text-align: right;\">\n",
       "      <th></th>\n",
       "      <th>athlete_id</th>\n",
       "      <th>date</th>\n",
       "      <th>game_workload</th>\n",
       "    </tr>\n",
       "  </thead>\n",
       "  <tbody>\n",
       "    <tr>\n",
       "      <th>0</th>\n",
       "      <td>1</td>\n",
       "      <td>2016-05-05</td>\n",
       "      <td>402</td>\n",
       "    </tr>\n",
       "    <tr>\n",
       "      <th>1</th>\n",
       "      <td>1</td>\n",
       "      <td>2016-05-08</td>\n",
       "      <td>365</td>\n",
       "    </tr>\n",
       "    <tr>\n",
       "      <th>2</th>\n",
       "      <td>1</td>\n",
       "      <td>2016-05-11</td>\n",
       "      <td>457</td>\n",
       "    </tr>\n",
       "    <tr>\n",
       "      <th>3</th>\n",
       "      <td>1</td>\n",
       "      <td>2016-05-16</td>\n",
       "      <td>405</td>\n",
       "    </tr>\n",
       "    <tr>\n",
       "      <th>4</th>\n",
       "      <td>1</td>\n",
       "      <td>2016-05-20</td>\n",
       "      <td>407</td>\n",
       "    </tr>\n",
       "  </tbody>\n",
       "</table>\n",
       "</div>"
      ],
      "text/plain": [
       "   athlete_id        date  game_workload\n",
       "0           1  2016-05-05            402\n",
       "1           1  2016-05-08            365\n",
       "2           1  2016-05-11            457\n",
       "3           1  2016-05-16            405\n",
       "4           1  2016-05-20            407"
      ]
     },
     "execution_count": 8,
     "metadata": {},
     "output_type": "execute_result"
    }
   ],
   "source": [
    "workload.head()"
   ]
  },
  {
   "cell_type": "code",
   "execution_count": 9,
   "metadata": {},
   "outputs": [
    {
     "data": {
      "text/html": [
       "<div>\n",
       "<style scoped>\n",
       "    .dataframe tbody tr th:only-of-type {\n",
       "        vertical-align: middle;\n",
       "    }\n",
       "\n",
       "    .dataframe tbody tr th {\n",
       "        vertical-align: top;\n",
       "    }\n",
       "\n",
       "    .dataframe thead th {\n",
       "        text-align: right;\n",
       "    }\n",
       "</style>\n",
       "<table border=\"1\" class=\"dataframe\">\n",
       "  <thead>\n",
       "    <tr style=\"text-align: right;\">\n",
       "      <th></th>\n",
       "      <th>athlete_id</th>\n",
       "      <th>date</th>\n",
       "      <th>game_workload</th>\n",
       "    </tr>\n",
       "  </thead>\n",
       "  <tbody>\n",
       "    <tr>\n",
       "      <th>count</th>\n",
       "      <td>2400.000000</td>\n",
       "      <td>2400</td>\n",
       "      <td>2400.000000</td>\n",
       "    </tr>\n",
       "    <tr>\n",
       "      <th>unique</th>\n",
       "      <td>NaN</td>\n",
       "      <td>706</td>\n",
       "      <td>NaN</td>\n",
       "    </tr>\n",
       "    <tr>\n",
       "      <th>top</th>\n",
       "      <td>NaN</td>\n",
       "      <td>2018-03-25</td>\n",
       "      <td>NaN</td>\n",
       "    </tr>\n",
       "    <tr>\n",
       "      <th>freq</th>\n",
       "      <td>NaN</td>\n",
       "      <td>9</td>\n",
       "      <td>NaN</td>\n",
       "    </tr>\n",
       "    <tr>\n",
       "      <th>mean</th>\n",
       "      <td>15.649167</td>\n",
       "      <td>NaN</td>\n",
       "      <td>400.481667</td>\n",
       "    </tr>\n",
       "    <tr>\n",
       "      <th>std</th>\n",
       "      <td>8.735438</td>\n",
       "      <td>NaN</td>\n",
       "      <td>47.991824</td>\n",
       "    </tr>\n",
       "    <tr>\n",
       "      <th>min</th>\n",
       "      <td>1.000000</td>\n",
       "      <td>NaN</td>\n",
       "      <td>225.000000</td>\n",
       "    </tr>\n",
       "    <tr>\n",
       "      <th>25%</th>\n",
       "      <td>8.000000</td>\n",
       "      <td>NaN</td>\n",
       "      <td>368.000000</td>\n",
       "    </tr>\n",
       "    <tr>\n",
       "      <th>50%</th>\n",
       "      <td>16.000000</td>\n",
       "      <td>NaN</td>\n",
       "      <td>400.000000</td>\n",
       "    </tr>\n",
       "    <tr>\n",
       "      <th>75%</th>\n",
       "      <td>23.000000</td>\n",
       "      <td>NaN</td>\n",
       "      <td>433.250000</td>\n",
       "    </tr>\n",
       "    <tr>\n",
       "      <th>max</th>\n",
       "      <td>30.000000</td>\n",
       "      <td>NaN</td>\n",
       "      <td>534.000000</td>\n",
       "    </tr>\n",
       "  </tbody>\n",
       "</table>\n",
       "</div>"
      ],
      "text/plain": [
       "         athlete_id        date  game_workload\n",
       "count   2400.000000        2400    2400.000000\n",
       "unique          NaN         706            NaN\n",
       "top             NaN  2018-03-25            NaN\n",
       "freq            NaN           9            NaN\n",
       "mean      15.649167         NaN     400.481667\n",
       "std        8.735438         NaN      47.991824\n",
       "min        1.000000         NaN     225.000000\n",
       "25%        8.000000         NaN     368.000000\n",
       "50%       16.000000         NaN     400.000000\n",
       "75%       23.000000         NaN     433.250000\n",
       "max       30.000000         NaN     534.000000"
      ]
     },
     "execution_count": 9,
     "metadata": {},
     "output_type": "execute_result"
    }
   ],
   "source": [
    "workload.describe(include='all')"
   ]
  },
  {
   "cell_type": "code",
   "execution_count": 10,
   "metadata": {},
   "outputs": [
    {
     "data": {
      "text/plain": [
       "athlete_id                int64\n",
       "date             datetime64[ns]\n",
       "game_workload             int64\n",
       "dtype: object"
      ]
     },
     "execution_count": 10,
     "metadata": {},
     "output_type": "execute_result"
    }
   ],
   "source": [
    "workload['date'] = workload['date'].astype('datetime64[ns]')\n",
    "workload.dtypes"
   ]
  },
  {
   "cell_type": "code",
   "execution_count": 11,
   "metadata": {},
   "outputs": [],
   "source": [
    "injuries = pd.read_csv(\"injuries.csv\")"
   ]
  },
  {
   "cell_type": "code",
   "execution_count": 12,
   "metadata": {},
   "outputs": [
    {
     "data": {
      "text/html": [
       "<div>\n",
       "<style scoped>\n",
       "    .dataframe tbody tr th:only-of-type {\n",
       "        vertical-align: middle;\n",
       "    }\n",
       "\n",
       "    .dataframe tbody tr th {\n",
       "        vertical-align: top;\n",
       "    }\n",
       "\n",
       "    .dataframe thead th {\n",
       "        text-align: right;\n",
       "    }\n",
       "</style>\n",
       "<table border=\"1\" class=\"dataframe\">\n",
       "  <thead>\n",
       "    <tr style=\"text-align: right;\">\n",
       "      <th></th>\n",
       "      <th>athlete_id</th>\n",
       "      <th>date</th>\n",
       "    </tr>\n",
       "  </thead>\n",
       "  <tbody>\n",
       "    <tr>\n",
       "      <th>0</th>\n",
       "      <td>1</td>\n",
       "      <td>2016-05-11</td>\n",
       "    </tr>\n",
       "    <tr>\n",
       "      <th>1</th>\n",
       "      <td>1</td>\n",
       "      <td>2016-05-16</td>\n",
       "    </tr>\n",
       "    <tr>\n",
       "      <th>2</th>\n",
       "      <td>1</td>\n",
       "      <td>2016-07-28</td>\n",
       "    </tr>\n",
       "    <tr>\n",
       "      <th>3</th>\n",
       "      <td>1</td>\n",
       "      <td>2016-11-11</td>\n",
       "    </tr>\n",
       "    <tr>\n",
       "      <th>4</th>\n",
       "      <td>1</td>\n",
       "      <td>2016-12-16</td>\n",
       "    </tr>\n",
       "  </tbody>\n",
       "</table>\n",
       "</div>"
      ],
      "text/plain": [
       "   athlete_id        date\n",
       "0           1  2016-05-11\n",
       "1           1  2016-05-16\n",
       "2           1  2016-07-28\n",
       "3           1  2016-11-11\n",
       "4           1  2016-12-16"
      ]
     },
     "execution_count": 12,
     "metadata": {},
     "output_type": "execute_result"
    }
   ],
   "source": [
    "injuries.head()"
   ]
  },
  {
   "cell_type": "code",
   "execution_count": 13,
   "metadata": {},
   "outputs": [
    {
     "data": {
      "text/html": [
       "<div>\n",
       "<style scoped>\n",
       "    .dataframe tbody tr th:only-of-type {\n",
       "        vertical-align: middle;\n",
       "    }\n",
       "\n",
       "    .dataframe tbody tr th {\n",
       "        vertical-align: top;\n",
       "    }\n",
       "\n",
       "    .dataframe thead th {\n",
       "        text-align: right;\n",
       "    }\n",
       "</style>\n",
       "<table border=\"1\" class=\"dataframe\">\n",
       "  <thead>\n",
       "    <tr style=\"text-align: right;\">\n",
       "      <th></th>\n",
       "      <th>athlete_id</th>\n",
       "      <th>date</th>\n",
       "    </tr>\n",
       "  </thead>\n",
       "  <tbody>\n",
       "    <tr>\n",
       "      <th>count</th>\n",
       "      <td>137.000000</td>\n",
       "      <td>137</td>\n",
       "    </tr>\n",
       "    <tr>\n",
       "      <th>unique</th>\n",
       "      <td>NaN</td>\n",
       "      <td>126</td>\n",
       "    </tr>\n",
       "    <tr>\n",
       "      <th>top</th>\n",
       "      <td>NaN</td>\n",
       "      <td>2016-05-16</td>\n",
       "    </tr>\n",
       "    <tr>\n",
       "      <th>freq</th>\n",
       "      <td>NaN</td>\n",
       "      <td>4</td>\n",
       "    </tr>\n",
       "    <tr>\n",
       "      <th>mean</th>\n",
       "      <td>15.605839</td>\n",
       "      <td>NaN</td>\n",
       "    </tr>\n",
       "    <tr>\n",
       "      <th>std</th>\n",
       "      <td>9.653068</td>\n",
       "      <td>NaN</td>\n",
       "    </tr>\n",
       "    <tr>\n",
       "      <th>min</th>\n",
       "      <td>1.000000</td>\n",
       "      <td>NaN</td>\n",
       "    </tr>\n",
       "    <tr>\n",
       "      <th>25%</th>\n",
       "      <td>6.000000</td>\n",
       "      <td>NaN</td>\n",
       "    </tr>\n",
       "    <tr>\n",
       "      <th>50%</th>\n",
       "      <td>18.000000</td>\n",
       "      <td>NaN</td>\n",
       "    </tr>\n",
       "    <tr>\n",
       "      <th>75%</th>\n",
       "      <td>24.000000</td>\n",
       "      <td>NaN</td>\n",
       "    </tr>\n",
       "    <tr>\n",
       "      <th>max</th>\n",
       "      <td>30.000000</td>\n",
       "      <td>NaN</td>\n",
       "    </tr>\n",
       "  </tbody>\n",
       "</table>\n",
       "</div>"
      ],
      "text/plain": [
       "        athlete_id        date\n",
       "count   137.000000         137\n",
       "unique         NaN         126\n",
       "top            NaN  2016-05-16\n",
       "freq           NaN           4\n",
       "mean     15.605839         NaN\n",
       "std       9.653068         NaN\n",
       "min       1.000000         NaN\n",
       "25%       6.000000         NaN\n",
       "50%      18.000000         NaN\n",
       "75%      24.000000         NaN\n",
       "max      30.000000         NaN"
      ]
     },
     "execution_count": 13,
     "metadata": {},
     "output_type": "execute_result"
    }
   ],
   "source": [
    "injuries.describe(include = 'all')"
   ]
  },
  {
   "cell_type": "code",
   "execution_count": 14,
   "metadata": {},
   "outputs": [
    {
     "data": {
      "text/plain": [
       "athlete_id             int64\n",
       "date          datetime64[ns]\n",
       "dtype: object"
      ]
     },
     "execution_count": 14,
     "metadata": {},
     "output_type": "execute_result"
    }
   ],
   "source": [
    "injuries['date'] = injuries['date'].astype('datetime64[ns]')\n",
    "injuries.dtypes"
   ]
  },
  {
   "cell_type": "code",
   "execution_count": 15,
   "metadata": {},
   "outputs": [],
   "source": [
    "\"\"\"Creating a new column named injury with all values as yes\"\"\"\n",
    "injuries[\"injury\"] = \"Yes\""
   ]
  },
  {
   "cell_type": "code",
   "execution_count": 16,
   "metadata": {},
   "outputs": [
    {
     "data": {
      "text/html": [
       "<div>\n",
       "<style scoped>\n",
       "    .dataframe tbody tr th:only-of-type {\n",
       "        vertical-align: middle;\n",
       "    }\n",
       "\n",
       "    .dataframe tbody tr th {\n",
       "        vertical-align: top;\n",
       "    }\n",
       "\n",
       "    .dataframe thead th {\n",
       "        text-align: right;\n",
       "    }\n",
       "</style>\n",
       "<table border=\"1\" class=\"dataframe\">\n",
       "  <thead>\n",
       "    <tr style=\"text-align: right;\">\n",
       "      <th></th>\n",
       "      <th>athlete_id</th>\n",
       "      <th>date</th>\n",
       "      <th>injury</th>\n",
       "    </tr>\n",
       "  </thead>\n",
       "  <tbody>\n",
       "    <tr>\n",
       "      <th>0</th>\n",
       "      <td>1</td>\n",
       "      <td>2016-05-11</td>\n",
       "      <td>Yes</td>\n",
       "    </tr>\n",
       "    <tr>\n",
       "      <th>1</th>\n",
       "      <td>1</td>\n",
       "      <td>2016-05-16</td>\n",
       "      <td>Yes</td>\n",
       "    </tr>\n",
       "    <tr>\n",
       "      <th>2</th>\n",
       "      <td>1</td>\n",
       "      <td>2016-07-28</td>\n",
       "      <td>Yes</td>\n",
       "    </tr>\n",
       "    <tr>\n",
       "      <th>3</th>\n",
       "      <td>1</td>\n",
       "      <td>2016-11-11</td>\n",
       "      <td>Yes</td>\n",
       "    </tr>\n",
       "    <tr>\n",
       "      <th>4</th>\n",
       "      <td>1</td>\n",
       "      <td>2016-12-16</td>\n",
       "      <td>Yes</td>\n",
       "    </tr>\n",
       "  </tbody>\n",
       "</table>\n",
       "</div>"
      ],
      "text/plain": [
       "   athlete_id       date injury\n",
       "0           1 2016-05-11    Yes\n",
       "1           1 2016-05-16    Yes\n",
       "2           1 2016-07-28    Yes\n",
       "3           1 2016-11-11    Yes\n",
       "4           1 2016-12-16    Yes"
      ]
     },
     "execution_count": 16,
     "metadata": {},
     "output_type": "execute_result"
    }
   ],
   "source": [
    "injuries.head()"
   ]
  },
  {
   "cell_type": "code",
   "execution_count": 17,
   "metadata": {},
   "outputs": [],
   "source": [
    "\"\"\"Merging the workload and injuries dataframes\"\"\"\n",
    "games_data = pd.merge(workload,injuries,  how='left', left_on=['athlete_id','date'], right_on = ['athlete_id','date'])"
   ]
  },
  {
   "cell_type": "code",
   "execution_count": 18,
   "metadata": {},
   "outputs": [],
   "source": [
    "\"\"\"Replacing the NANs with No as the value in injury column\"\"\"\n",
    "games_data[\"injury\"].fillna(\"No\", inplace = True)\n",
    "#playersData[\"game_workload\"].fillna(0, inplace = True)\n"
   ]
  },
  {
   "cell_type": "markdown",
   "metadata": {},
   "source": [
    "Created a new column for recording the injury on the days games were played (as indicated by workload)"
   ]
  },
  {
   "cell_type": "code",
   "execution_count": 19,
   "metadata": {},
   "outputs": [
    {
     "data": {
      "text/html": [
       "<div>\n",
       "<style scoped>\n",
       "    .dataframe tbody tr th:only-of-type {\n",
       "        vertical-align: middle;\n",
       "    }\n",
       "\n",
       "    .dataframe tbody tr th {\n",
       "        vertical-align: top;\n",
       "    }\n",
       "\n",
       "    .dataframe thead th {\n",
       "        text-align: right;\n",
       "    }\n",
       "</style>\n",
       "<table border=\"1\" class=\"dataframe\">\n",
       "  <thead>\n",
       "    <tr style=\"text-align: right;\">\n",
       "      <th></th>\n",
       "      <th>athlete_id</th>\n",
       "      <th>date</th>\n",
       "      <th>game_workload</th>\n",
       "      <th>injury</th>\n",
       "    </tr>\n",
       "  </thead>\n",
       "  <tbody>\n",
       "    <tr>\n",
       "      <th>0</th>\n",
       "      <td>1</td>\n",
       "      <td>2016-05-05</td>\n",
       "      <td>402</td>\n",
       "      <td>No</td>\n",
       "    </tr>\n",
       "    <tr>\n",
       "      <th>1</th>\n",
       "      <td>1</td>\n",
       "      <td>2016-05-08</td>\n",
       "      <td>365</td>\n",
       "      <td>No</td>\n",
       "    </tr>\n",
       "    <tr>\n",
       "      <th>2</th>\n",
       "      <td>1</td>\n",
       "      <td>2016-05-11</td>\n",
       "      <td>457</td>\n",
       "      <td>Yes</td>\n",
       "    </tr>\n",
       "    <tr>\n",
       "      <th>3</th>\n",
       "      <td>1</td>\n",
       "      <td>2016-05-16</td>\n",
       "      <td>405</td>\n",
       "      <td>Yes</td>\n",
       "    </tr>\n",
       "    <tr>\n",
       "      <th>4</th>\n",
       "      <td>1</td>\n",
       "      <td>2016-05-20</td>\n",
       "      <td>407</td>\n",
       "      <td>No</td>\n",
       "    </tr>\n",
       "  </tbody>\n",
       "</table>\n",
       "</div>"
      ],
      "text/plain": [
       "   athlete_id       date  game_workload injury\n",
       "0           1 2016-05-05            402     No\n",
       "1           1 2016-05-08            365     No\n",
       "2           1 2016-05-11            457    Yes\n",
       "3           1 2016-05-16            405    Yes\n",
       "4           1 2016-05-20            407     No"
      ]
     },
     "execution_count": 19,
     "metadata": {},
     "output_type": "execute_result"
    }
   ],
   "source": [
    "games_data.head()"
   ]
  },
  {
   "cell_type": "code",
   "execution_count": 20,
   "metadata": {},
   "outputs": [
    {
     "data": {
      "text/html": [
       "<div>\n",
       "<style scoped>\n",
       "    .dataframe tbody tr th:only-of-type {\n",
       "        vertical-align: middle;\n",
       "    }\n",
       "\n",
       "    .dataframe tbody tr th {\n",
       "        vertical-align: top;\n",
       "    }\n",
       "\n",
       "    .dataframe thead th {\n",
       "        text-align: right;\n",
       "    }\n",
       "</style>\n",
       "<table border=\"1\" class=\"dataframe\">\n",
       "  <thead>\n",
       "    <tr style=\"text-align: right;\">\n",
       "      <th></th>\n",
       "      <th>athlete_id</th>\n",
       "      <th>date</th>\n",
       "      <th>metric</th>\n",
       "      <th>value</th>\n",
       "    </tr>\n",
       "  </thead>\n",
       "  <tbody>\n",
       "    <tr>\n",
       "      <th>0</th>\n",
       "      <td>1</td>\n",
       "      <td>2016-05-01</td>\n",
       "      <td>hip_mobility</td>\n",
       "      <td>36</td>\n",
       "    </tr>\n",
       "    <tr>\n",
       "      <th>1</th>\n",
       "      <td>1</td>\n",
       "      <td>2016-05-02</td>\n",
       "      <td>hip_mobility</td>\n",
       "      <td>36</td>\n",
       "    </tr>\n",
       "    <tr>\n",
       "      <th>2</th>\n",
       "      <td>1</td>\n",
       "      <td>2016-05-03</td>\n",
       "      <td>hip_mobility</td>\n",
       "      <td>56</td>\n",
       "    </tr>\n",
       "    <tr>\n",
       "      <th>3</th>\n",
       "      <td>1</td>\n",
       "      <td>2016-05-04</td>\n",
       "      <td>hip_mobility</td>\n",
       "      <td>24</td>\n",
       "    </tr>\n",
       "    <tr>\n",
       "      <th>4</th>\n",
       "      <td>1</td>\n",
       "      <td>2016-05-05</td>\n",
       "      <td>hip_mobility</td>\n",
       "      <td>35</td>\n",
       "    </tr>\n",
       "  </tbody>\n",
       "</table>\n",
       "</div>"
      ],
      "text/plain": [
       "   athlete_id       date        metric  value\n",
       "0           1 2016-05-01  hip_mobility     36\n",
       "1           1 2016-05-02  hip_mobility     36\n",
       "2           1 2016-05-03  hip_mobility     56\n",
       "3           1 2016-05-04  hip_mobility     24\n",
       "4           1 2016-05-05  hip_mobility     35"
      ]
     },
     "execution_count": 20,
     "metadata": {},
     "output_type": "execute_result"
    }
   ],
   "source": [
    "metrics.head()"
   ]
  },
  {
   "cell_type": "code",
   "execution_count": 21,
   "metadata": {},
   "outputs": [],
   "source": [
    "\"\"\"Recording metric type as two seperate columns i.e transposing the groin_squeeze and hip_mobility rows into columns\"\"\"\n",
    "new_metrics_df = metrics.pivot_table('value', ['athlete_id', 'date'], 'metric').reset_index()"
   ]
  },
  {
   "cell_type": "code",
   "execution_count": 22,
   "metadata": {},
   "outputs": [
    {
     "data": {
      "text/html": [
       "<div>\n",
       "<style scoped>\n",
       "    .dataframe tbody tr th:only-of-type {\n",
       "        vertical-align: middle;\n",
       "    }\n",
       "\n",
       "    .dataframe tbody tr th {\n",
       "        vertical-align: top;\n",
       "    }\n",
       "\n",
       "    .dataframe thead th {\n",
       "        text-align: right;\n",
       "    }\n",
       "</style>\n",
       "<table border=\"1\" class=\"dataframe\">\n",
       "  <thead>\n",
       "    <tr style=\"text-align: right;\">\n",
       "      <th>metric</th>\n",
       "      <th>athlete_id</th>\n",
       "      <th>date</th>\n",
       "      <th>groin_squeeze</th>\n",
       "      <th>hip_mobility</th>\n",
       "    </tr>\n",
       "  </thead>\n",
       "  <tbody>\n",
       "    <tr>\n",
       "      <th>0</th>\n",
       "      <td>1</td>\n",
       "      <td>2016-05-01</td>\n",
       "      <td>297</td>\n",
       "      <td>36</td>\n",
       "    </tr>\n",
       "    <tr>\n",
       "      <th>1</th>\n",
       "      <td>1</td>\n",
       "      <td>2016-05-02</td>\n",
       "      <td>274</td>\n",
       "      <td>36</td>\n",
       "    </tr>\n",
       "    <tr>\n",
       "      <th>2</th>\n",
       "      <td>1</td>\n",
       "      <td>2016-05-03</td>\n",
       "      <td>291</td>\n",
       "      <td>56</td>\n",
       "    </tr>\n",
       "    <tr>\n",
       "      <th>3</th>\n",
       "      <td>1</td>\n",
       "      <td>2016-05-04</td>\n",
       "      <td>260</td>\n",
       "      <td>24</td>\n",
       "    </tr>\n",
       "    <tr>\n",
       "      <th>4</th>\n",
       "      <td>1</td>\n",
       "      <td>2016-05-05</td>\n",
       "      <td>284</td>\n",
       "      <td>35</td>\n",
       "    </tr>\n",
       "  </tbody>\n",
       "</table>\n",
       "</div>"
      ],
      "text/plain": [
       "metric  athlete_id       date  groin_squeeze  hip_mobility\n",
       "0                1 2016-05-01            297            36\n",
       "1                1 2016-05-02            274            36\n",
       "2                1 2016-05-03            291            56\n",
       "3                1 2016-05-04            260            24\n",
       "4                1 2016-05-05            284            35"
      ]
     },
     "execution_count": 22,
     "metadata": {},
     "output_type": "execute_result"
    }
   ],
   "source": [
    "new_metrics_df.head()"
   ]
  },
  {
   "cell_type": "code",
   "execution_count": 23,
   "metadata": {},
   "outputs": [
    {
     "data": {
      "text/plain": [
       "(21900, 4)"
      ]
     },
     "execution_count": 23,
     "metadata": {},
     "output_type": "execute_result"
    }
   ],
   "source": [
    "new_metrics_df.shape"
   ]
  },
  {
   "cell_type": "code",
   "execution_count": 24,
   "metadata": {},
   "outputs": [],
   "source": [
    "\"\"\"Merging the necessary columns from all the tables into one final dataframe for further analysis\"\"\"\n",
    "final_data = pd.merge(games_data,new_metrics_df,  how='left', left_on=['athlete_id','date'], right_on = ['athlete_id','date'])"
   ]
  },
  {
   "cell_type": "code",
   "execution_count": 25,
   "metadata": {},
   "outputs": [
    {
     "data": {
      "text/plain": [
       "(2400, 6)"
      ]
     },
     "execution_count": 25,
     "metadata": {},
     "output_type": "execute_result"
    }
   ],
   "source": [
    "final_data.shape"
   ]
  },
  {
   "cell_type": "code",
   "execution_count": 26,
   "metadata": {},
   "outputs": [
    {
     "data": {
      "text/html": [
       "<div>\n",
       "<style scoped>\n",
       "    .dataframe tbody tr th:only-of-type {\n",
       "        vertical-align: middle;\n",
       "    }\n",
       "\n",
       "    .dataframe tbody tr th {\n",
       "        vertical-align: top;\n",
       "    }\n",
       "\n",
       "    .dataframe thead th {\n",
       "        text-align: right;\n",
       "    }\n",
       "</style>\n",
       "<table border=\"1\" class=\"dataframe\">\n",
       "  <thead>\n",
       "    <tr style=\"text-align: right;\">\n",
       "      <th></th>\n",
       "      <th>athlete_id</th>\n",
       "      <th>date</th>\n",
       "      <th>game_workload</th>\n",
       "      <th>injury</th>\n",
       "      <th>groin_squeeze</th>\n",
       "      <th>hip_mobility</th>\n",
       "    </tr>\n",
       "  </thead>\n",
       "  <tbody>\n",
       "    <tr>\n",
       "      <th>0</th>\n",
       "      <td>1</td>\n",
       "      <td>2016-05-05</td>\n",
       "      <td>402</td>\n",
       "      <td>No</td>\n",
       "      <td>284</td>\n",
       "      <td>35</td>\n",
       "    </tr>\n",
       "    <tr>\n",
       "      <th>1</th>\n",
       "      <td>1</td>\n",
       "      <td>2016-05-08</td>\n",
       "      <td>365</td>\n",
       "      <td>No</td>\n",
       "      <td>250</td>\n",
       "      <td>41</td>\n",
       "    </tr>\n",
       "    <tr>\n",
       "      <th>2</th>\n",
       "      <td>1</td>\n",
       "      <td>2016-05-11</td>\n",
       "      <td>457</td>\n",
       "      <td>Yes</td>\n",
       "      <td>331</td>\n",
       "      <td>33</td>\n",
       "    </tr>\n",
       "    <tr>\n",
       "      <th>3</th>\n",
       "      <td>1</td>\n",
       "      <td>2016-05-16</td>\n",
       "      <td>405</td>\n",
       "      <td>Yes</td>\n",
       "      <td>260</td>\n",
       "      <td>38</td>\n",
       "    </tr>\n",
       "    <tr>\n",
       "      <th>4</th>\n",
       "      <td>1</td>\n",
       "      <td>2016-05-20</td>\n",
       "      <td>407</td>\n",
       "      <td>No</td>\n",
       "      <td>378</td>\n",
       "      <td>60</td>\n",
       "    </tr>\n",
       "  </tbody>\n",
       "</table>\n",
       "</div>"
      ],
      "text/plain": [
       "   athlete_id       date  game_workload injury  groin_squeeze  hip_mobility\n",
       "0           1 2016-05-05            402     No            284            35\n",
       "1           1 2016-05-08            365     No            250            41\n",
       "2           1 2016-05-11            457    Yes            331            33\n",
       "3           1 2016-05-16            405    Yes            260            38\n",
       "4           1 2016-05-20            407     No            378            60"
      ]
     },
     "execution_count": 26,
     "metadata": {},
     "output_type": "execute_result"
    }
   ],
   "source": [
    "final_data.head()"
   ]
  },
  {
   "cell_type": "markdown",
   "metadata": {},
   "source": [
    "Creating new column named <b>rest_period</b> i.e difference between two consecutive games played by a player"
   ]
  },
  {
   "cell_type": "code",
   "execution_count": 27,
   "metadata": {},
   "outputs": [],
   "source": [
    "final_data['rest_period'] = final_data.groupby('athlete_id')['date'].diff()"
   ]
  },
  {
   "cell_type": "code",
   "execution_count": 28,
   "metadata": {},
   "outputs": [
    {
     "data": {
      "text/html": [
       "<div>\n",
       "<style scoped>\n",
       "    .dataframe tbody tr th:only-of-type {\n",
       "        vertical-align: middle;\n",
       "    }\n",
       "\n",
       "    .dataframe tbody tr th {\n",
       "        vertical-align: top;\n",
       "    }\n",
       "\n",
       "    .dataframe thead th {\n",
       "        text-align: right;\n",
       "    }\n",
       "</style>\n",
       "<table border=\"1\" class=\"dataframe\">\n",
       "  <thead>\n",
       "    <tr style=\"text-align: right;\">\n",
       "      <th></th>\n",
       "      <th>athlete_id</th>\n",
       "      <th>date</th>\n",
       "      <th>game_workload</th>\n",
       "      <th>injury</th>\n",
       "      <th>groin_squeeze</th>\n",
       "      <th>hip_mobility</th>\n",
       "      <th>rest_period</th>\n",
       "    </tr>\n",
       "  </thead>\n",
       "  <tbody>\n",
       "    <tr>\n",
       "      <th>0</th>\n",
       "      <td>1</td>\n",
       "      <td>2016-05-05</td>\n",
       "      <td>402</td>\n",
       "      <td>No</td>\n",
       "      <td>284</td>\n",
       "      <td>35</td>\n",
       "      <td>NaT</td>\n",
       "    </tr>\n",
       "    <tr>\n",
       "      <th>1</th>\n",
       "      <td>1</td>\n",
       "      <td>2016-05-08</td>\n",
       "      <td>365</td>\n",
       "      <td>No</td>\n",
       "      <td>250</td>\n",
       "      <td>41</td>\n",
       "      <td>3 days</td>\n",
       "    </tr>\n",
       "    <tr>\n",
       "      <th>2</th>\n",
       "      <td>1</td>\n",
       "      <td>2016-05-11</td>\n",
       "      <td>457</td>\n",
       "      <td>Yes</td>\n",
       "      <td>331</td>\n",
       "      <td>33</td>\n",
       "      <td>3 days</td>\n",
       "    </tr>\n",
       "    <tr>\n",
       "      <th>3</th>\n",
       "      <td>1</td>\n",
       "      <td>2016-05-16</td>\n",
       "      <td>405</td>\n",
       "      <td>Yes</td>\n",
       "      <td>260</td>\n",
       "      <td>38</td>\n",
       "      <td>5 days</td>\n",
       "    </tr>\n",
       "    <tr>\n",
       "      <th>4</th>\n",
       "      <td>1</td>\n",
       "      <td>2016-05-20</td>\n",
       "      <td>407</td>\n",
       "      <td>No</td>\n",
       "      <td>378</td>\n",
       "      <td>60</td>\n",
       "      <td>4 days</td>\n",
       "    </tr>\n",
       "  </tbody>\n",
       "</table>\n",
       "</div>"
      ],
      "text/plain": [
       "   athlete_id       date  game_workload injury  groin_squeeze  hip_mobility  \\\n",
       "0           1 2016-05-05            402     No            284            35   \n",
       "1           1 2016-05-08            365     No            250            41   \n",
       "2           1 2016-05-11            457    Yes            331            33   \n",
       "3           1 2016-05-16            405    Yes            260            38   \n",
       "4           1 2016-05-20            407     No            378            60   \n",
       "\n",
       "  rest_period  \n",
       "0         NaT  \n",
       "1      3 days  \n",
       "2      3 days  \n",
       "3      5 days  \n",
       "4      4 days  "
      ]
     },
     "execution_count": 28,
     "metadata": {},
     "output_type": "execute_result"
    }
   ],
   "source": [
    "final_data.head()"
   ]
  },
  {
   "cell_type": "markdown",
   "metadata": {},
   "source": [
    "Since the data for all the players was given from the date 2016-05-01, the resting period for the first game played by each player is taken as the difference between their first game and the date 2016-05-01."
   ]
  },
  {
   "cell_type": "code",
   "execution_count": 29,
   "metadata": {},
   "outputs": [],
   "source": [
    "first_day = '2016-05-01'\n",
    "date_object = pd.to_datetime(first_day)"
   ]
  },
  {
   "cell_type": "code",
   "execution_count": 30,
   "metadata": {},
   "outputs": [],
   "source": [
    "final_data[\"rest_period\"].fillna(final_data['date'] - date_object, inplace = True)"
   ]
  },
  {
   "cell_type": "code",
   "execution_count": 31,
   "metadata": {},
   "outputs": [
    {
     "data": {
      "text/html": [
       "<div>\n",
       "<style scoped>\n",
       "    .dataframe tbody tr th:only-of-type {\n",
       "        vertical-align: middle;\n",
       "    }\n",
       "\n",
       "    .dataframe tbody tr th {\n",
       "        vertical-align: top;\n",
       "    }\n",
       "\n",
       "    .dataframe thead th {\n",
       "        text-align: right;\n",
       "    }\n",
       "</style>\n",
       "<table border=\"1\" class=\"dataframe\">\n",
       "  <thead>\n",
       "    <tr style=\"text-align: right;\">\n",
       "      <th></th>\n",
       "      <th>athlete_id</th>\n",
       "      <th>date</th>\n",
       "      <th>game_workload</th>\n",
       "      <th>injury</th>\n",
       "      <th>groin_squeeze</th>\n",
       "      <th>hip_mobility</th>\n",
       "      <th>rest_period</th>\n",
       "    </tr>\n",
       "  </thead>\n",
       "  <tbody>\n",
       "    <tr>\n",
       "      <th>0</th>\n",
       "      <td>1</td>\n",
       "      <td>2016-05-05</td>\n",
       "      <td>402</td>\n",
       "      <td>No</td>\n",
       "      <td>284</td>\n",
       "      <td>35</td>\n",
       "      <td>4 days</td>\n",
       "    </tr>\n",
       "    <tr>\n",
       "      <th>1</th>\n",
       "      <td>1</td>\n",
       "      <td>2016-05-08</td>\n",
       "      <td>365</td>\n",
       "      <td>No</td>\n",
       "      <td>250</td>\n",
       "      <td>41</td>\n",
       "      <td>3 days</td>\n",
       "    </tr>\n",
       "    <tr>\n",
       "      <th>2</th>\n",
       "      <td>1</td>\n",
       "      <td>2016-05-11</td>\n",
       "      <td>457</td>\n",
       "      <td>Yes</td>\n",
       "      <td>331</td>\n",
       "      <td>33</td>\n",
       "      <td>3 days</td>\n",
       "    </tr>\n",
       "    <tr>\n",
       "      <th>3</th>\n",
       "      <td>1</td>\n",
       "      <td>2016-05-16</td>\n",
       "      <td>405</td>\n",
       "      <td>Yes</td>\n",
       "      <td>260</td>\n",
       "      <td>38</td>\n",
       "      <td>5 days</td>\n",
       "    </tr>\n",
       "    <tr>\n",
       "      <th>4</th>\n",
       "      <td>1</td>\n",
       "      <td>2016-05-20</td>\n",
       "      <td>407</td>\n",
       "      <td>No</td>\n",
       "      <td>378</td>\n",
       "      <td>60</td>\n",
       "      <td>4 days</td>\n",
       "    </tr>\n",
       "  </tbody>\n",
       "</table>\n",
       "</div>"
      ],
      "text/plain": [
       "   athlete_id       date  game_workload injury  groin_squeeze  hip_mobility  \\\n",
       "0           1 2016-05-05            402     No            284            35   \n",
       "1           1 2016-05-08            365     No            250            41   \n",
       "2           1 2016-05-11            457    Yes            331            33   \n",
       "3           1 2016-05-16            405    Yes            260            38   \n",
       "4           1 2016-05-20            407     No            378            60   \n",
       "\n",
       "  rest_period  \n",
       "0      4 days  \n",
       "1      3 days  \n",
       "2      3 days  \n",
       "3      5 days  \n",
       "4      4 days  "
      ]
     },
     "execution_count": 31,
     "metadata": {},
     "output_type": "execute_result"
    }
   ],
   "source": [
    "final_data.head()"
   ]
  },
  {
   "cell_type": "code",
   "execution_count": 32,
   "metadata": {},
   "outputs": [],
   "source": [
    "\"\"\"Converting the column into day format\"\"\"\n",
    "final_data['rest_period'] = final_data['rest_period'].astype('timedelta64[D]')"
   ]
  },
  {
   "cell_type": "code",
   "execution_count": 33,
   "metadata": {},
   "outputs": [
    {
     "data": {
      "text/html": [
       "<div>\n",
       "<style scoped>\n",
       "    .dataframe tbody tr th:only-of-type {\n",
       "        vertical-align: middle;\n",
       "    }\n",
       "\n",
       "    .dataframe tbody tr th {\n",
       "        vertical-align: top;\n",
       "    }\n",
       "\n",
       "    .dataframe thead th {\n",
       "        text-align: right;\n",
       "    }\n",
       "</style>\n",
       "<table border=\"1\" class=\"dataframe\">\n",
       "  <thead>\n",
       "    <tr style=\"text-align: right;\">\n",
       "      <th></th>\n",
       "      <th>athlete_id</th>\n",
       "      <th>date</th>\n",
       "      <th>game_workload</th>\n",
       "      <th>injury</th>\n",
       "      <th>groin_squeeze</th>\n",
       "      <th>hip_mobility</th>\n",
       "      <th>rest_period</th>\n",
       "    </tr>\n",
       "  </thead>\n",
       "  <tbody>\n",
       "    <tr>\n",
       "      <th>0</th>\n",
       "      <td>1</td>\n",
       "      <td>2016-05-05</td>\n",
       "      <td>402</td>\n",
       "      <td>No</td>\n",
       "      <td>284</td>\n",
       "      <td>35</td>\n",
       "      <td>4.0</td>\n",
       "    </tr>\n",
       "    <tr>\n",
       "      <th>1</th>\n",
       "      <td>1</td>\n",
       "      <td>2016-05-08</td>\n",
       "      <td>365</td>\n",
       "      <td>No</td>\n",
       "      <td>250</td>\n",
       "      <td>41</td>\n",
       "      <td>3.0</td>\n",
       "    </tr>\n",
       "    <tr>\n",
       "      <th>2</th>\n",
       "      <td>1</td>\n",
       "      <td>2016-05-11</td>\n",
       "      <td>457</td>\n",
       "      <td>Yes</td>\n",
       "      <td>331</td>\n",
       "      <td>33</td>\n",
       "      <td>3.0</td>\n",
       "    </tr>\n",
       "    <tr>\n",
       "      <th>3</th>\n",
       "      <td>1</td>\n",
       "      <td>2016-05-16</td>\n",
       "      <td>405</td>\n",
       "      <td>Yes</td>\n",
       "      <td>260</td>\n",
       "      <td>38</td>\n",
       "      <td>5.0</td>\n",
       "    </tr>\n",
       "    <tr>\n",
       "      <th>4</th>\n",
       "      <td>1</td>\n",
       "      <td>2016-05-20</td>\n",
       "      <td>407</td>\n",
       "      <td>No</td>\n",
       "      <td>378</td>\n",
       "      <td>60</td>\n",
       "      <td>4.0</td>\n",
       "    </tr>\n",
       "  </tbody>\n",
       "</table>\n",
       "</div>"
      ],
      "text/plain": [
       "   athlete_id       date  game_workload injury  groin_squeeze  hip_mobility  \\\n",
       "0           1 2016-05-05            402     No            284            35   \n",
       "1           1 2016-05-08            365     No            250            41   \n",
       "2           1 2016-05-11            457    Yes            331            33   \n",
       "3           1 2016-05-16            405    Yes            260            38   \n",
       "4           1 2016-05-20            407     No            378            60   \n",
       "\n",
       "   rest_period  \n",
       "0          4.0  \n",
       "1          3.0  \n",
       "2          3.0  \n",
       "3          5.0  \n",
       "4          4.0  "
      ]
     },
     "execution_count": 33,
     "metadata": {},
     "output_type": "execute_result"
    }
   ],
   "source": [
    "final_data.head()"
   ]
  },
  {
   "cell_type": "code",
   "execution_count": 34,
   "metadata": {},
   "outputs": [
    {
     "data": {
      "text/html": [
       "<div>\n",
       "<style scoped>\n",
       "    .dataframe tbody tr th:only-of-type {\n",
       "        vertical-align: middle;\n",
       "    }\n",
       "\n",
       "    .dataframe tbody tr th {\n",
       "        vertical-align: top;\n",
       "    }\n",
       "\n",
       "    .dataframe thead th {\n",
       "        text-align: right;\n",
       "    }\n",
       "</style>\n",
       "<table border=\"1\" class=\"dataframe\">\n",
       "  <thead>\n",
       "    <tr style=\"text-align: right;\">\n",
       "      <th></th>\n",
       "      <th>athlete_id</th>\n",
       "      <th>game_workload</th>\n",
       "      <th>groin_squeeze</th>\n",
       "      <th>hip_mobility</th>\n",
       "      <th>rest_period</th>\n",
       "    </tr>\n",
       "  </thead>\n",
       "  <tbody>\n",
       "    <tr>\n",
       "      <th>athlete_id</th>\n",
       "      <td>1.000000</td>\n",
       "      <td>-0.030159</td>\n",
       "      <td>-0.051175</td>\n",
       "      <td>-0.014437</td>\n",
       "      <td>-0.016292</td>\n",
       "    </tr>\n",
       "    <tr>\n",
       "      <th>game_workload</th>\n",
       "      <td>-0.030159</td>\n",
       "      <td>1.000000</td>\n",
       "      <td>-0.022571</td>\n",
       "      <td>0.000956</td>\n",
       "      <td>-0.023001</td>\n",
       "    </tr>\n",
       "    <tr>\n",
       "      <th>groin_squeeze</th>\n",
       "      <td>-0.051175</td>\n",
       "      <td>-0.022571</td>\n",
       "      <td>1.000000</td>\n",
       "      <td>-0.001996</td>\n",
       "      <td>0.039563</td>\n",
       "    </tr>\n",
       "    <tr>\n",
       "      <th>hip_mobility</th>\n",
       "      <td>-0.014437</td>\n",
       "      <td>0.000956</td>\n",
       "      <td>-0.001996</td>\n",
       "      <td>1.000000</td>\n",
       "      <td>0.006614</td>\n",
       "    </tr>\n",
       "    <tr>\n",
       "      <th>rest_period</th>\n",
       "      <td>-0.016292</td>\n",
       "      <td>-0.023001</td>\n",
       "      <td>0.039563</td>\n",
       "      <td>0.006614</td>\n",
       "      <td>1.000000</td>\n",
       "    </tr>\n",
       "  </tbody>\n",
       "</table>\n",
       "</div>"
      ],
      "text/plain": [
       "               athlete_id  game_workload  groin_squeeze  hip_mobility  \\\n",
       "athlete_id       1.000000      -0.030159      -0.051175     -0.014437   \n",
       "game_workload   -0.030159       1.000000      -0.022571      0.000956   \n",
       "groin_squeeze   -0.051175      -0.022571       1.000000     -0.001996   \n",
       "hip_mobility    -0.014437       0.000956      -0.001996      1.000000   \n",
       "rest_period     -0.016292      -0.023001       0.039563      0.006614   \n",
       "\n",
       "               rest_period  \n",
       "athlete_id       -0.016292  \n",
       "game_workload    -0.023001  \n",
       "groin_squeeze     0.039563  \n",
       "hip_mobility      0.006614  \n",
       "rest_period       1.000000  "
      ]
     },
     "execution_count": 34,
     "metadata": {},
     "output_type": "execute_result"
    }
   ],
   "source": [
    "\"\"\"Checking for correlation between the attributes (columns)\"\"\"\n",
    "final_data.corr()"
   ]
  },
  {
   "cell_type": "markdown",
   "metadata": {},
   "source": [
    "<h2> Statistical Analysis</h2>"
   ]
  },
  {
   "cell_type": "markdown",
   "metadata": {},
   "source": [
    "Preparing the dataframe for statistical analysis/ machine learning by adding/removing the categorical variables."
   ]
  },
  {
   "cell_type": "code",
   "execution_count": 35,
   "metadata": {},
   "outputs": [],
   "source": [
    "final_data.injury.replace(to_replace=['No', 'Yes'], value=[0, 1], inplace = True)\n",
    "final_data = final_data[['injury','athlete_id','date','game_workload','groin_squeeze','hip_mobility','rest_period']]"
   ]
  },
  {
   "cell_type": "code",
   "execution_count": 36,
   "metadata": {},
   "outputs": [
    {
     "data": {
      "text/html": [
       "<div>\n",
       "<style scoped>\n",
       "    .dataframe tbody tr th:only-of-type {\n",
       "        vertical-align: middle;\n",
       "    }\n",
       "\n",
       "    .dataframe tbody tr th {\n",
       "        vertical-align: top;\n",
       "    }\n",
       "\n",
       "    .dataframe thead th {\n",
       "        text-align: right;\n",
       "    }\n",
       "</style>\n",
       "<table border=\"1\" class=\"dataframe\">\n",
       "  <thead>\n",
       "    <tr style=\"text-align: right;\">\n",
       "      <th></th>\n",
       "      <th>injury</th>\n",
       "      <th>athlete_id</th>\n",
       "      <th>date</th>\n",
       "      <th>game_workload</th>\n",
       "      <th>groin_squeeze</th>\n",
       "      <th>hip_mobility</th>\n",
       "      <th>rest_period</th>\n",
       "    </tr>\n",
       "  </thead>\n",
       "  <tbody>\n",
       "    <tr>\n",
       "      <th>0</th>\n",
       "      <td>0</td>\n",
       "      <td>1</td>\n",
       "      <td>2016-05-05</td>\n",
       "      <td>402</td>\n",
       "      <td>284</td>\n",
       "      <td>35</td>\n",
       "      <td>4.0</td>\n",
       "    </tr>\n",
       "    <tr>\n",
       "      <th>1</th>\n",
       "      <td>0</td>\n",
       "      <td>1</td>\n",
       "      <td>2016-05-08</td>\n",
       "      <td>365</td>\n",
       "      <td>250</td>\n",
       "      <td>41</td>\n",
       "      <td>3.0</td>\n",
       "    </tr>\n",
       "    <tr>\n",
       "      <th>2</th>\n",
       "      <td>1</td>\n",
       "      <td>1</td>\n",
       "      <td>2016-05-11</td>\n",
       "      <td>457</td>\n",
       "      <td>331</td>\n",
       "      <td>33</td>\n",
       "      <td>3.0</td>\n",
       "    </tr>\n",
       "    <tr>\n",
       "      <th>3</th>\n",
       "      <td>1</td>\n",
       "      <td>1</td>\n",
       "      <td>2016-05-16</td>\n",
       "      <td>405</td>\n",
       "      <td>260</td>\n",
       "      <td>38</td>\n",
       "      <td>5.0</td>\n",
       "    </tr>\n",
       "    <tr>\n",
       "      <th>4</th>\n",
       "      <td>0</td>\n",
       "      <td>1</td>\n",
       "      <td>2016-05-20</td>\n",
       "      <td>407</td>\n",
       "      <td>378</td>\n",
       "      <td>60</td>\n",
       "      <td>4.0</td>\n",
       "    </tr>\n",
       "  </tbody>\n",
       "</table>\n",
       "</div>"
      ],
      "text/plain": [
       "   injury  athlete_id       date  game_workload  groin_squeeze  hip_mobility  \\\n",
       "0       0           1 2016-05-05            402            284            35   \n",
       "1       0           1 2016-05-08            365            250            41   \n",
       "2       1           1 2016-05-11            457            331            33   \n",
       "3       1           1 2016-05-16            405            260            38   \n",
       "4       0           1 2016-05-20            407            378            60   \n",
       "\n",
       "   rest_period  \n",
       "0          4.0  \n",
       "1          3.0  \n",
       "2          3.0  \n",
       "3          5.0  \n",
       "4          4.0  "
      ]
     },
     "execution_count": 36,
     "metadata": {},
     "output_type": "execute_result"
    }
   ],
   "source": [
    "final_data.head()"
   ]
  },
  {
   "cell_type": "code",
   "execution_count": 37,
   "metadata": {},
   "outputs": [],
   "source": [
    "\"\"\"Creating dummy variables for categorical Athelete Ids\"\"\"\n",
    "dummy_variables = pd.get_dummies(final_data['athlete_id'])\n",
    "ready_data = pd.concat([final_data,dummy_variables], axis=1)"
   ]
  },
  {
   "cell_type": "code",
   "execution_count": 38,
   "metadata": {},
   "outputs": [
    {
     "data": {
      "text/html": [
       "<div>\n",
       "<style scoped>\n",
       "    .dataframe tbody tr th:only-of-type {\n",
       "        vertical-align: middle;\n",
       "    }\n",
       "\n",
       "    .dataframe tbody tr th {\n",
       "        vertical-align: top;\n",
       "    }\n",
       "\n",
       "    .dataframe thead th {\n",
       "        text-align: right;\n",
       "    }\n",
       "</style>\n",
       "<table border=\"1\" class=\"dataframe\">\n",
       "  <thead>\n",
       "    <tr style=\"text-align: right;\">\n",
       "      <th></th>\n",
       "      <th>injury</th>\n",
       "      <th>athlete_id</th>\n",
       "      <th>date</th>\n",
       "      <th>game_workload</th>\n",
       "      <th>groin_squeeze</th>\n",
       "      <th>hip_mobility</th>\n",
       "      <th>rest_period</th>\n",
       "      <th>1</th>\n",
       "      <th>2</th>\n",
       "      <th>3</th>\n",
       "      <th>...</th>\n",
       "      <th>21</th>\n",
       "      <th>22</th>\n",
       "      <th>23</th>\n",
       "      <th>24</th>\n",
       "      <th>25</th>\n",
       "      <th>26</th>\n",
       "      <th>27</th>\n",
       "      <th>28</th>\n",
       "      <th>29</th>\n",
       "      <th>30</th>\n",
       "    </tr>\n",
       "  </thead>\n",
       "  <tbody>\n",
       "    <tr>\n",
       "      <th>0</th>\n",
       "      <td>0</td>\n",
       "      <td>1</td>\n",
       "      <td>2016-05-05</td>\n",
       "      <td>402</td>\n",
       "      <td>284</td>\n",
       "      <td>35</td>\n",
       "      <td>4.0</td>\n",
       "      <td>1</td>\n",
       "      <td>0</td>\n",
       "      <td>0</td>\n",
       "      <td>...</td>\n",
       "      <td>0</td>\n",
       "      <td>0</td>\n",
       "      <td>0</td>\n",
       "      <td>0</td>\n",
       "      <td>0</td>\n",
       "      <td>0</td>\n",
       "      <td>0</td>\n",
       "      <td>0</td>\n",
       "      <td>0</td>\n",
       "      <td>0</td>\n",
       "    </tr>\n",
       "    <tr>\n",
       "      <th>1</th>\n",
       "      <td>0</td>\n",
       "      <td>1</td>\n",
       "      <td>2016-05-08</td>\n",
       "      <td>365</td>\n",
       "      <td>250</td>\n",
       "      <td>41</td>\n",
       "      <td>3.0</td>\n",
       "      <td>1</td>\n",
       "      <td>0</td>\n",
       "      <td>0</td>\n",
       "      <td>...</td>\n",
       "      <td>0</td>\n",
       "      <td>0</td>\n",
       "      <td>0</td>\n",
       "      <td>0</td>\n",
       "      <td>0</td>\n",
       "      <td>0</td>\n",
       "      <td>0</td>\n",
       "      <td>0</td>\n",
       "      <td>0</td>\n",
       "      <td>0</td>\n",
       "    </tr>\n",
       "    <tr>\n",
       "      <th>2</th>\n",
       "      <td>1</td>\n",
       "      <td>1</td>\n",
       "      <td>2016-05-11</td>\n",
       "      <td>457</td>\n",
       "      <td>331</td>\n",
       "      <td>33</td>\n",
       "      <td>3.0</td>\n",
       "      <td>1</td>\n",
       "      <td>0</td>\n",
       "      <td>0</td>\n",
       "      <td>...</td>\n",
       "      <td>0</td>\n",
       "      <td>0</td>\n",
       "      <td>0</td>\n",
       "      <td>0</td>\n",
       "      <td>0</td>\n",
       "      <td>0</td>\n",
       "      <td>0</td>\n",
       "      <td>0</td>\n",
       "      <td>0</td>\n",
       "      <td>0</td>\n",
       "    </tr>\n",
       "    <tr>\n",
       "      <th>3</th>\n",
       "      <td>1</td>\n",
       "      <td>1</td>\n",
       "      <td>2016-05-16</td>\n",
       "      <td>405</td>\n",
       "      <td>260</td>\n",
       "      <td>38</td>\n",
       "      <td>5.0</td>\n",
       "      <td>1</td>\n",
       "      <td>0</td>\n",
       "      <td>0</td>\n",
       "      <td>...</td>\n",
       "      <td>0</td>\n",
       "      <td>0</td>\n",
       "      <td>0</td>\n",
       "      <td>0</td>\n",
       "      <td>0</td>\n",
       "      <td>0</td>\n",
       "      <td>0</td>\n",
       "      <td>0</td>\n",
       "      <td>0</td>\n",
       "      <td>0</td>\n",
       "    </tr>\n",
       "    <tr>\n",
       "      <th>4</th>\n",
       "      <td>0</td>\n",
       "      <td>1</td>\n",
       "      <td>2016-05-20</td>\n",
       "      <td>407</td>\n",
       "      <td>378</td>\n",
       "      <td>60</td>\n",
       "      <td>4.0</td>\n",
       "      <td>1</td>\n",
       "      <td>0</td>\n",
       "      <td>0</td>\n",
       "      <td>...</td>\n",
       "      <td>0</td>\n",
       "      <td>0</td>\n",
       "      <td>0</td>\n",
       "      <td>0</td>\n",
       "      <td>0</td>\n",
       "      <td>0</td>\n",
       "      <td>0</td>\n",
       "      <td>0</td>\n",
       "      <td>0</td>\n",
       "      <td>0</td>\n",
       "    </tr>\n",
       "  </tbody>\n",
       "</table>\n",
       "<p>5 rows × 37 columns</p>\n",
       "</div>"
      ],
      "text/plain": [
       "   injury  athlete_id       date  game_workload  groin_squeeze  hip_mobility  \\\n",
       "0       0           1 2016-05-05            402            284            35   \n",
       "1       0           1 2016-05-08            365            250            41   \n",
       "2       1           1 2016-05-11            457            331            33   \n",
       "3       1           1 2016-05-16            405            260            38   \n",
       "4       0           1 2016-05-20            407            378            60   \n",
       "\n",
       "   rest_period  1  2  3 ...  21  22  23  24  25  26  27  28  29  30  \n",
       "0          4.0  1  0  0 ...   0   0   0   0   0   0   0   0   0   0  \n",
       "1          3.0  1  0  0 ...   0   0   0   0   0   0   0   0   0   0  \n",
       "2          3.0  1  0  0 ...   0   0   0   0   0   0   0   0   0   0  \n",
       "3          5.0  1  0  0 ...   0   0   0   0   0   0   0   0   0   0  \n",
       "4          4.0  1  0  0 ...   0   0   0   0   0   0   0   0   0   0  \n",
       "\n",
       "[5 rows x 37 columns]"
      ]
     },
     "execution_count": 38,
     "metadata": {},
     "output_type": "execute_result"
    }
   ],
   "source": [
    "ready_data.head()"
   ]
  },
  {
   "cell_type": "code",
   "execution_count": 39,
   "metadata": {},
   "outputs": [],
   "source": [
    "ready_data.drop('athlete_id', axis = 1, inplace= True)\n",
    "ready_data.drop('date', axis = 1, inplace = True)"
   ]
  },
  {
   "cell_type": "code",
   "execution_count": 40,
   "metadata": {},
   "outputs": [
    {
     "data": {
      "text/html": [
       "<div>\n",
       "<style scoped>\n",
       "    .dataframe tbody tr th:only-of-type {\n",
       "        vertical-align: middle;\n",
       "    }\n",
       "\n",
       "    .dataframe tbody tr th {\n",
       "        vertical-align: top;\n",
       "    }\n",
       "\n",
       "    .dataframe thead th {\n",
       "        text-align: right;\n",
       "    }\n",
       "</style>\n",
       "<table border=\"1\" class=\"dataframe\">\n",
       "  <thead>\n",
       "    <tr style=\"text-align: right;\">\n",
       "      <th></th>\n",
       "      <th>injury</th>\n",
       "      <th>game_workload</th>\n",
       "      <th>groin_squeeze</th>\n",
       "      <th>hip_mobility</th>\n",
       "      <th>rest_period</th>\n",
       "      <th>1</th>\n",
       "      <th>2</th>\n",
       "      <th>3</th>\n",
       "      <th>4</th>\n",
       "      <th>5</th>\n",
       "      <th>...</th>\n",
       "      <th>21</th>\n",
       "      <th>22</th>\n",
       "      <th>23</th>\n",
       "      <th>24</th>\n",
       "      <th>25</th>\n",
       "      <th>26</th>\n",
       "      <th>27</th>\n",
       "      <th>28</th>\n",
       "      <th>29</th>\n",
       "      <th>30</th>\n",
       "    </tr>\n",
       "  </thead>\n",
       "  <tbody>\n",
       "    <tr>\n",
       "      <th>0</th>\n",
       "      <td>0</td>\n",
       "      <td>402</td>\n",
       "      <td>284</td>\n",
       "      <td>35</td>\n",
       "      <td>4.0</td>\n",
       "      <td>1</td>\n",
       "      <td>0</td>\n",
       "      <td>0</td>\n",
       "      <td>0</td>\n",
       "      <td>0</td>\n",
       "      <td>...</td>\n",
       "      <td>0</td>\n",
       "      <td>0</td>\n",
       "      <td>0</td>\n",
       "      <td>0</td>\n",
       "      <td>0</td>\n",
       "      <td>0</td>\n",
       "      <td>0</td>\n",
       "      <td>0</td>\n",
       "      <td>0</td>\n",
       "      <td>0</td>\n",
       "    </tr>\n",
       "    <tr>\n",
       "      <th>1</th>\n",
       "      <td>0</td>\n",
       "      <td>365</td>\n",
       "      <td>250</td>\n",
       "      <td>41</td>\n",
       "      <td>3.0</td>\n",
       "      <td>1</td>\n",
       "      <td>0</td>\n",
       "      <td>0</td>\n",
       "      <td>0</td>\n",
       "      <td>0</td>\n",
       "      <td>...</td>\n",
       "      <td>0</td>\n",
       "      <td>0</td>\n",
       "      <td>0</td>\n",
       "      <td>0</td>\n",
       "      <td>0</td>\n",
       "      <td>0</td>\n",
       "      <td>0</td>\n",
       "      <td>0</td>\n",
       "      <td>0</td>\n",
       "      <td>0</td>\n",
       "    </tr>\n",
       "    <tr>\n",
       "      <th>2</th>\n",
       "      <td>1</td>\n",
       "      <td>457</td>\n",
       "      <td>331</td>\n",
       "      <td>33</td>\n",
       "      <td>3.0</td>\n",
       "      <td>1</td>\n",
       "      <td>0</td>\n",
       "      <td>0</td>\n",
       "      <td>0</td>\n",
       "      <td>0</td>\n",
       "      <td>...</td>\n",
       "      <td>0</td>\n",
       "      <td>0</td>\n",
       "      <td>0</td>\n",
       "      <td>0</td>\n",
       "      <td>0</td>\n",
       "      <td>0</td>\n",
       "      <td>0</td>\n",
       "      <td>0</td>\n",
       "      <td>0</td>\n",
       "      <td>0</td>\n",
       "    </tr>\n",
       "    <tr>\n",
       "      <th>3</th>\n",
       "      <td>1</td>\n",
       "      <td>405</td>\n",
       "      <td>260</td>\n",
       "      <td>38</td>\n",
       "      <td>5.0</td>\n",
       "      <td>1</td>\n",
       "      <td>0</td>\n",
       "      <td>0</td>\n",
       "      <td>0</td>\n",
       "      <td>0</td>\n",
       "      <td>...</td>\n",
       "      <td>0</td>\n",
       "      <td>0</td>\n",
       "      <td>0</td>\n",
       "      <td>0</td>\n",
       "      <td>0</td>\n",
       "      <td>0</td>\n",
       "      <td>0</td>\n",
       "      <td>0</td>\n",
       "      <td>0</td>\n",
       "      <td>0</td>\n",
       "    </tr>\n",
       "    <tr>\n",
       "      <th>4</th>\n",
       "      <td>0</td>\n",
       "      <td>407</td>\n",
       "      <td>378</td>\n",
       "      <td>60</td>\n",
       "      <td>4.0</td>\n",
       "      <td>1</td>\n",
       "      <td>0</td>\n",
       "      <td>0</td>\n",
       "      <td>0</td>\n",
       "      <td>0</td>\n",
       "      <td>...</td>\n",
       "      <td>0</td>\n",
       "      <td>0</td>\n",
       "      <td>0</td>\n",
       "      <td>0</td>\n",
       "      <td>0</td>\n",
       "      <td>0</td>\n",
       "      <td>0</td>\n",
       "      <td>0</td>\n",
       "      <td>0</td>\n",
       "      <td>0</td>\n",
       "    </tr>\n",
       "  </tbody>\n",
       "</table>\n",
       "<p>5 rows × 35 columns</p>\n",
       "</div>"
      ],
      "text/plain": [
       "   injury  game_workload  groin_squeeze  hip_mobility  rest_period  1  2  3  \\\n",
       "0       0            402            284            35          4.0  1  0  0   \n",
       "1       0            365            250            41          3.0  1  0  0   \n",
       "2       1            457            331            33          3.0  1  0  0   \n",
       "3       1            405            260            38          5.0  1  0  0   \n",
       "4       0            407            378            60          4.0  1  0  0   \n",
       "\n",
       "   4  5 ...  21  22  23  24  25  26  27  28  29  30  \n",
       "0  0  0 ...   0   0   0   0   0   0   0   0   0   0  \n",
       "1  0  0 ...   0   0   0   0   0   0   0   0   0   0  \n",
       "2  0  0 ...   0   0   0   0   0   0   0   0   0   0  \n",
       "3  0  0 ...   0   0   0   0   0   0   0   0   0   0  \n",
       "4  0  0 ...   0   0   0   0   0   0   0   0   0   0  \n",
       "\n",
       "[5 rows x 35 columns]"
      ]
     },
     "execution_count": 40,
     "metadata": {},
     "output_type": "execute_result"
    }
   ],
   "source": [
    "ready_data.head()"
   ]
  },
  {
   "cell_type": "code",
   "execution_count": 41,
   "metadata": {},
   "outputs": [],
   "source": [
    "\"\"\"Assiging the dependent variable (0 0r 1 to be predicted as class)\"\"\"\n",
    "y = ready_data.loc[:,'injury'].values"
   ]
  },
  {
   "cell_type": "code",
   "execution_count": 42,
   "metadata": {},
   "outputs": [],
   "source": [
    "\"\"\"required for stats model only\"\"\"\n",
    "y = y.reshape(-1,1)"
   ]
  },
  {
   "cell_type": "code",
   "execution_count": 43,
   "metadata": {},
   "outputs": [
    {
     "data": {
      "text/plain": [
       "(2400, 1)"
      ]
     },
     "execution_count": 43,
     "metadata": {},
     "output_type": "execute_result"
    }
   ],
   "source": [
    "y.shape"
   ]
  },
  {
   "cell_type": "code",
   "execution_count": 44,
   "metadata": {},
   "outputs": [],
   "source": [
    "X = ready_data.iloc[:, 1:35 ].values"
   ]
  },
  {
   "cell_type": "code",
   "execution_count": 45,
   "metadata": {},
   "outputs": [
    {
     "data": {
      "text/plain": [
       "(2400, 34)"
      ]
     },
     "execution_count": 45,
     "metadata": {},
     "output_type": "execute_result"
    }
   ],
   "source": [
    "X.shape"
   ]
  },
  {
   "cell_type": "code",
   "execution_count": 46,
   "metadata": {},
   "outputs": [
    {
     "name": "stdout",
     "output_type": "stream",
     "text": [
      "Warning: Maximum number of iterations has been exceeded.\n",
      "         Current function value: 0.193348\n",
      "         Iterations: 35\n",
      "                         Results: Logit\n",
      "=================================================================\n",
      "Model:              Logit            Pseudo R-squared: 0.117     \n",
      "Dependent Variable: y                AIC:              996.0700  \n",
      "Date:               2020-02-05 02:57 BIC:              1192.6996 \n",
      "No. Observations:   2400             Log-Likelihood:   -464.03   \n",
      "Df Model:           33               LL-Null:          -525.28   \n",
      "Df Residuals:       2366             LLR p-value:      3.2402e-12\n",
      "Converged:          0.0000           Scale:            1.0000    \n",
      "No. Iterations:     35.0000                                      \n",
      "-----------------------------------------------------------------\n",
      "         Coef.    Std.Err.     z    P>|z|     [0.025     0.975]  \n",
      "-----------------------------------------------------------------\n",
      "x1       -0.0007     0.0020 -0.3399 0.7339     -0.0045     0.0032\n",
      "x2        0.0074     0.0019  4.0002 0.0001      0.0038     0.0111\n",
      "x3       -0.0024     0.0091 -0.2667 0.7897     -0.0202     0.0154\n",
      "x4       -0.1094     0.0195 -5.5992 0.0000     -0.1477    -0.0711\n",
      "x5       -2.6794     1.0829 -2.4744 0.0133     -4.8018    -0.5570\n",
      "x6       -2.6292     1.0144 -2.5920 0.0095     -4.6174    -0.6411\n",
      "x7       -2.9460     1.0300 -2.8603 0.0042     -4.9647    -0.9273\n",
      "x8       -3.8380     1.1322 -3.3898 0.0007     -6.0572    -1.6189\n",
      "x9       -4.4242     1.3759 -3.2155 0.0013     -7.1209    -1.7275\n",
      "x10      -3.6988     1.1378 -3.2509 0.0012     -5.9288    -1.4688\n",
      "x11      -2.6084     1.0334 -2.5240 0.0116     -4.6339    -0.5829\n",
      "x12      -4.6265     1.2673 -3.6507 0.0003     -7.1103    -2.1426\n",
      "x13      -5.4413     1.4460 -3.7630 0.0002     -8.2755    -2.6072\n",
      "x14      -3.3745     1.0811 -3.1214 0.0018     -5.4934    -1.2556\n",
      "x15      -2.9731     1.0730 -2.7707 0.0056     -5.0762    -0.8700\n",
      "x16      -2.2468     1.0092 -2.2263 0.0260     -4.2249    -0.2688\n",
      "x17     -24.7826 15309.8790 -0.0016 0.9987 -30031.5940 29982.0289\n",
      "x18      -4.6693     1.2055 -3.8733 0.0001     -7.0321    -2.3066\n",
      "x19      -3.9683     1.1288 -3.5154 0.0004     -6.1808    -1.7558\n",
      "x20      -5.2568     1.4296 -3.6770 0.0002     -8.0589    -2.4548\n",
      "x21      -4.2697     1.1382 -3.7512 0.0002     -6.5006    -2.0388\n",
      "x22      -2.0863     0.9927 -2.1015 0.0356     -4.0320    -0.1405\n",
      "x23      -3.7463     1.1931 -3.1400 0.0017     -6.0847    -1.4079\n",
      "x24      -2.3546     0.9850 -2.3903 0.0168     -4.2852    -0.4239\n",
      "x25      -3.0681     1.0633 -2.8854 0.0039     -5.1522    -0.9840\n",
      "x26      -2.4515     1.0290 -2.3825 0.0172     -4.4683    -0.4348\n",
      "x27      -3.4986     1.1291 -3.0985 0.0019     -5.7116    -1.2856\n",
      "x28      -4.0318     1.1241 -3.5868 0.0003     -6.2349    -1.8287\n",
      "x29      -2.2143     0.9808 -2.2575 0.0240     -4.1367    -0.2919\n",
      "x30      -5.1125     1.2549 -4.0740 0.0000     -7.5720    -2.6529\n",
      "x31      -3.5118     1.0707 -3.2798 0.0010     -5.6104    -1.4132\n",
      "x32      -2.2518     1.0157 -2.2169 0.0266     -4.2427    -0.2610\n",
      "x33      -3.5883     1.0818 -3.3170 0.0009     -5.7086    -1.4680\n",
      "x34      -3.0880     1.0521 -2.9350 0.0033     -5.1501    -1.0259\n",
      "=================================================================\n",
      "\n"
     ]
    },
    {
     "name": "stderr",
     "output_type": "stream",
     "text": [
      "/Users/swathikiran/anaconda3/lib/python3.6/site-packages/statsmodels/base/model.py:508: ConvergenceWarning: Maximum Likelihood optimization failed to converge. Check mle_retvals\n",
      "  \"Check mle_retvals\", ConvergenceWarning)\n"
     ]
    }
   ],
   "source": [
    "\"\"\"Applying Logistic Regression model to identify the impacting variables using Maximum Liklehood and P-values\"\"\"\n",
    "import statsmodels.api as sm\n",
    "logit_model=sm.Logit(y,X)\n",
    "result=logit_model.fit()\n",
    "print(result.summary2())"
   ]
  },
  {
   "cell_type": "code",
   "execution_count": 47,
   "metadata": {},
   "outputs": [
    {
     "name": "stdout",
     "output_type": "stream",
     "text": [
      "                 Results: Ordinary least squares\n",
      "==================================================================\n",
      "Model:              OLS              Adj. R-squared:     0.031    \n",
      "Dependent Variable: y                AIC:                -243.6583\n",
      "Date:               2020-02-05 02:57 BIC:                -47.0287 \n",
      "No. Observations:   2400             Log-Likelihood:     155.83   \n",
      "Df Model:           33               F-statistic:        3.354    \n",
      "Df Residuals:       2366             Prob (F-statistic): 4.92e-10 \n",
      "R-squared:          0.045            Scale:              0.052159 \n",
      "---------------------------------------------------------------------\n",
      "        Coef.     Std.Err.       t       P>|t|      [0.025     0.975]\n",
      "---------------------------------------------------------------------\n",
      "x1     -0.0000      0.0001    -0.3858    0.6997    -0.0002     0.0002\n",
      "x2      0.0004      0.0001     3.9425    0.0001     0.0002     0.0006\n",
      "x3     -0.0000      0.0005    -0.0202    0.9838    -0.0009     0.0009\n",
      "x4     -0.0030      0.0005    -5.6423    0.0000    -0.0040    -0.0020\n",
      "x5      0.0933      0.0588     1.5878    0.1125    -0.0219     0.2086\n",
      "x6      0.0647      0.0537     1.2045    0.2285    -0.0406     0.1701\n",
      "x7      0.0492      0.0536     0.9180    0.3587    -0.0559     0.1542\n",
      "x8     -0.0010      0.0587    -0.0177    0.9859    -0.1161     0.1140\n",
      "x9     -0.0092      0.0554    -0.1668    0.8675    -0.1179     0.0994\n",
      "x10     0.0199      0.0501     0.3974    0.6911    -0.0783     0.1180\n",
      "x11     0.0550      0.0520     1.0561    0.2910    -0.0471     0.1570\n",
      "x12    -0.0385      0.0596    -0.6457    0.5185    -0.1554     0.0784\n",
      "x13    -0.0570      0.0591    -0.9658    0.3342    -0.1728     0.0588\n",
      "x14     0.0187      0.0542     0.3453    0.7299    -0.0876     0.1251\n",
      "x15     0.0424      0.0517     0.8197    0.4125    -0.0590     0.1438\n",
      "x16     0.0750      0.0520     1.4434    0.1491    -0.0269     0.1770\n",
      "x17    -0.0685      0.0578    -1.1863    0.2356    -0.1818     0.0447\n",
      "x18    -0.0408      0.0583    -0.6997    0.4842    -0.1550     0.0735\n",
      "x19    -0.0049      0.0540    -0.0902    0.9281    -0.1107     0.1009\n",
      "x20    -0.0479      0.0584    -0.8209    0.4118    -0.1624     0.0665\n",
      "x21    -0.0265      0.0574    -0.4613    0.6446    -0.1391     0.0861\n",
      "x22     0.0887      0.0524     1.6925    0.0907    -0.0141     0.1914\n",
      "x23     0.0066      0.0552     0.1188    0.9055    -0.1016     0.1147\n",
      "x24     0.0716      0.0510     1.4044    0.1603    -0.0284     0.1715\n",
      "x25     0.0323      0.0546     0.5903    0.5550    -0.0749     0.1394\n",
      "x26     0.0860      0.0549     1.5685    0.1169    -0.0215     0.1936\n",
      "x27     0.0145      0.0556     0.2610    0.7941    -0.0945     0.1236\n",
      "x28    -0.0134      0.0570    -0.2356    0.8138    -0.1253     0.0984\n",
      "x29     0.1155      0.0538     2.1450    0.0321     0.0099     0.2210\n",
      "x30    -0.0532      0.0574    -0.9266    0.3542    -0.1658     0.0594\n",
      "x31     0.0132      0.0534     0.2476    0.8045    -0.0915     0.1180\n",
      "x32     0.0770      0.0520     1.4787    0.1393    -0.0251     0.1790\n",
      "x33     0.0159      0.0570     0.2795    0.7799    -0.0958     0.1277\n",
      "x34     0.0373      0.0501     0.7440    0.4569    -0.0610     0.1356\n",
      "------------------------------------------------------------------\n",
      "Omnibus:            1743.833      Durbin-Watson:         2.041    \n",
      "Prob(Omnibus):      0.000         Jarque-Bera (JB):      18252.698\n",
      "Skew:               3.563         Prob(JB):              0.000    \n",
      "Kurtosis:           14.478        Condition No.:         26017    \n",
      "==================================================================\n",
      "* The condition number is large (3e+04). This might indicate\n",
      "strong multicollinearity or other numerical problems.\n"
     ]
    }
   ],
   "source": [
    "\"\"\"Applying ststs model to identify the impacting variables using ordinary Leasts square method for p-value\"\"\"\n",
    "import statsmodels.api as sm\n",
    "logit_model=sm.OLS(y,X)\n",
    "result=logit_model.fit()\n",
    "print(result.summary2())"
   ]
  },
  {
   "cell_type": "markdown",
   "metadata": {},
   "source": [
    "<h2>Balancing the classes in the dataset</h2>"
   ]
  },
  {
   "cell_type": "code",
   "execution_count": 48,
   "metadata": {},
   "outputs": [
    {
     "data": {
      "text/plain": [
       "'From exploratory data analysis we know that there are only 137 injured cases out of 2400.\\nTherefore, we will use over sampling technique to increase the injured cases \\nand hence bringing the balance between both the categoreies in the datset'"
      ]
     },
     "execution_count": 48,
     "metadata": {},
     "output_type": "execute_result"
    }
   ],
   "source": [
    "\"\"\"From exploratory data analysis we know that there are only 137 injured cases out of 2400.\n",
    "Therefore, we will use over sampling technique to increase the injured cases \n",
    "and hence bringing the balance between both the categoreies in the datset\"\"\""
   ]
  },
  {
   "cell_type": "code",
   "execution_count": 49,
   "metadata": {},
   "outputs": [
    {
     "data": {
      "text/plain": [
       "Text(0,0.5,'Resting_days')"
      ]
     },
     "execution_count": 49,
     "metadata": {},
     "output_type": "execute_result"
    },
    {
     "data": {
      "image/png": "[encoded data removed]",
      "text/plain": [
       "<Figure size 432x288 with 1 Axes>"
      ]
     },
     "metadata": {},
     "output_type": "display_data"
    }
   ],
   "source": [
    "\"\"\"Visualising the data in form of number of cases in each class\"\"\"\n",
    "plt.scatter(ready_data['game_workload'], ready_data['rest_period'],\n",
    "            alpha=0.5, c=ready_data.injury, cmap='viridis', label = np.unique(ready_data.injury))\n",
    "plt.xlabel(\"game_workload\")\n",
    "plt.ylabel(\"Resting_days\")"
   ]
  },
  {
   "cell_type": "code",
   "execution_count": 50,
   "metadata": {},
   "outputs": [
    {
     "name": "stderr",
     "output_type": "stream",
     "text": [
      "/Users/swathikiran/anaconda3/lib/python3.6/site-packages/sklearn/externals/six.py:31: FutureWarning: The module is deprecated in version 0.21 and will be removed in version 0.23 since we've dropped support for Python 2.7. Please rely on the official version of six (https://pypi.org/project/six/).\n",
      "  \"(https://pypi.org/project/six/).\", FutureWarning)\n",
      "/Users/swathikiran/anaconda3/lib/python3.6/site-packages/sklearn/utils/deprecation.py:144: FutureWarning: The sklearn.neighbors.base module is  deprecated in version 0.22 and will be removed in version 0.24. The corresponding classes / functions should instead be imported from sklearn.neighbors. Anything that cannot be imported from sklearn.neighbors is now part of the private API.\n",
      "  warnings.warn(message, FutureWarning)\n",
      "/Users/swathikiran/anaconda3/lib/python3.6/site-packages/sklearn/externals/joblib/__init__.py:15: FutureWarning: sklearn.externals.joblib is deprecated in 0.21 and will be removed in 0.23. Please import this functionality directly from joblib, which can be installed with: pip install joblib. If this warning is raised when loading pickled models, you may need to re-serialize those models with scikit-learn 0.21+.\n",
      "  warnings.warn(msg, category=FutureWarning)\n",
      "/Users/swathikiran/anaconda3/lib/python3.6/site-packages/sklearn/utils/validation.py:760: DataConversionWarning: A column-vector y was passed when a 1d array was expected. Please change the shape of y to (n_samples, ), for example using ravel().\n",
      "  y = column_or_1d(y, warn=True)\n",
      "/Users/swathikiran/anaconda3/lib/python3.6/site-packages/sklearn/utils/validation.py:760: DataConversionWarning: A column-vector y was passed when a 1d array was expected. Please change the shape of y to (n_samples, ), for example using ravel().\n",
      "  y = column_or_1d(y, warn=True)\n",
      "/Users/swathikiran/anaconda3/lib/python3.6/site-packages/sklearn/utils/deprecation.py:87: FutureWarning: Function safe_indexing is deprecated; safe_indexing is deprecated in version 0.22 and will be removed in version 0.24.\n",
      "  warnings.warn(msg, category=FutureWarning)\n"
     ]
    }
   ],
   "source": [
    "\"\"\"Applying oversampling technique using Synthetic Minority Oversampling Technique\"\"\"\n",
    "from collections import Counter\n",
    "from sklearn.datasets import make_classification\n",
    "from imblearn.over_sampling import SMOTE\n",
    "oversample = SMOTE()\n",
    "X_new, y_new = oversample.fit_sample(X, y)"
   ]
  },
  {
   "cell_type": "code",
   "execution_count": 51,
   "metadata": {},
   "outputs": [
    {
     "data": {
      "text/plain": [
       "(4526, 34)"
      ]
     },
     "execution_count": 51,
     "metadata": {},
     "output_type": "execute_result"
    }
   ],
   "source": [
    "X_new.shape"
   ]
  },
  {
   "cell_type": "code",
   "execution_count": 52,
   "metadata": {},
   "outputs": [
    {
     "data": {
      "text/plain": [
       "Text(0,0.5,'Resting_days')"
      ]
     },
     "execution_count": 52,
     "metadata": {},
     "output_type": "execute_result"
    },
    {
     "data": {
      "image/png": "[encoded data removed]",
      "text/plain": [
       "<Figure size 432x288 with 1 Axes>"
      ]
     },
     "metadata": {},
     "output_type": "display_data"
    }
   ],
   "source": [
    "\"\"\"plotting the classes after over sampling the minority class\"\"\"\n",
    "plt.scatter(X_new[:,0], X_new[:,3],\n",
    "            alpha=0.5, c=y_new, cmap='viridis', label = np.unique(ready_data.injury))\n",
    "plt.xlabel(\"game_workload\")\n",
    "plt.ylabel(\"Resting_days\")"
   ]
  },
  {
   "cell_type": "code",
   "execution_count": 53,
   "metadata": {},
   "outputs": [
    {
     "name": "stdout",
     "output_type": "stream",
     "text": [
      "Warning: Maximum number of iterations has been exceeded.\n",
      "         Current function value: 0.548601\n",
      "         Iterations: 35\n",
      "                          Results: Logit\n",
      "==================================================================\n",
      "Model:              Logit            Pseudo R-squared: 0.209      \n",
      "Dependent Variable: y                AIC:              5033.9363  \n",
      "Date:               2020-02-05 02:57 BIC:              5252.1345  \n",
      "No. Observations:   4526             Log-Likelihood:   -2483.0    \n",
      "Df Model:           33               LL-Null:          -3137.2    \n",
      "Df Residuals:       4492             LLR p-value:      6.5541e-254\n",
      "Converged:          0.0000           Scale:            1.0000     \n",
      "No. Iterations:     35.0000                                       \n",
      "-------------------------------------------------------------------\n",
      "      Coef.     Std.Err.     z      P>|z|      [0.025      0.975]  \n",
      "-------------------------------------------------------------------\n",
      "x1     0.0008     0.0008    0.9120  0.3618      -0.0009      0.0024\n",
      "x2     0.0103     0.0008   12.7891  0.0000       0.0087      0.0118\n",
      "x3    -0.0031     0.0040   -0.7899  0.4296      -0.0109      0.0046\n",
      "x4    -0.1456     0.0078  -18.7522  0.0000      -0.1608     -0.1304\n",
      "x5    -0.9190     0.4787   -1.9196  0.0549      -1.8573      0.0193\n",
      "x6    -0.7015     0.4423   -1.5860  0.1127      -1.5684      0.1654\n",
      "x7    -1.1441     0.4479   -2.5546  0.0106      -2.0219     -0.2663\n",
      "x8    -2.1569     0.4906   -4.3966  0.0000      -3.1184     -1.1954\n",
      "x9    -2.7488     0.4979   -5.5206  0.0000      -3.7247     -1.7729\n",
      "x10   -1.9035     0.4549   -4.1845  0.0000      -2.7952     -1.0119\n",
      "x11   -0.8174     0.4240   -1.9278  0.0539      -1.6485      0.0136\n",
      "x12   -3.2361     0.5202   -6.2209  0.0000      -4.2557     -2.2165\n",
      "x13   -4.1411     0.5483   -7.5527  0.0000      -5.2157     -3.0664\n",
      "x14   -1.1173     0.4678   -2.3884  0.0169      -2.0343     -0.2004\n",
      "x15   -0.7077     0.4347   -1.6279  0.1035      -1.5597      0.1444\n",
      "x16    0.0300     0.4390    0.0683  0.9455      -0.8304      0.8904\n",
      "x17  -24.0055  5537.0203   -0.0043  0.9965  -10876.3658  10828.3549\n",
      "x18   -3.4893     0.5141   -6.7866  0.0000      -4.4970     -2.4816\n",
      "x19   -2.2013     0.4630   -4.7550  0.0000      -3.1087     -1.2940\n",
      "x20   -4.0666     0.5697   -7.1387  0.0000      -5.1832     -2.9501\n",
      "x21   -2.9583     0.4922   -6.0104  0.0000      -3.9231     -1.9936\n",
      "x22    0.2797     0.4351    0.6429  0.5203      -0.5730      1.1324\n",
      "x23   -1.7390     0.4803   -3.6204  0.0003      -2.6805     -0.7976\n",
      "x24   -0.2153     0.4213   -0.5111  0.6093      -1.0410      0.6103\n",
      "x25   -1.4040     0.4689   -2.9940  0.0028      -2.3230     -0.4849\n",
      "x26   -0.6268     0.4580   -1.3687  0.1711      -1.5244      0.2708\n",
      "x27   -2.2664     0.4884   -4.6407  0.0000      -3.2237     -1.3092\n",
      "x28   -2.4692     0.4838   -5.1038  0.0000      -3.4175     -1.5210\n",
      "x29    0.1856     0.4498    0.4128  0.6798      -0.6959      1.0672\n",
      "x30   -3.5422     0.4963   -7.1371  0.0000      -4.5150     -2.5695\n",
      "x31   -1.6184     0.4549   -3.5578  0.0004      -2.5100     -0.7269\n",
      "x32    0.1807     0.4346    0.4159  0.6775      -0.6710      1.0324\n",
      "x33   -2.1999     0.4721   -4.6597  0.0000      -3.1252     -1.2746\n",
      "x34   -1.2571     0.4400   -2.8572  0.0043      -2.1195     -0.3948\n",
      "==================================================================\n",
      "\n"
     ]
    },
    {
     "name": "stderr",
     "output_type": "stream",
     "text": [
      "/Users/swathikiran/anaconda3/lib/python3.6/site-packages/statsmodels/base/model.py:508: ConvergenceWarning: Maximum Likelihood optimization failed to converge. Check mle_retvals\n",
      "  \"Check mle_retvals\", ConvergenceWarning)\n"
     ]
    }
   ],
   "source": [
    "\"\"\"Applying ststs model to identify the impacting variables after balancing the classes\"\"\"\n",
    "import statsmodels.api as sm\n",
    "logit_model=sm.Logit(y_new,X_new)\n",
    "result=logit_model.fit()\n",
    "print(result.summary2())"
   ]
  },
  {
   "cell_type": "code",
   "execution_count": 54,
   "metadata": {},
   "outputs": [
    {
     "name": "stdout",
     "output_type": "stream",
     "text": [
      "                 Results: Ordinary least squares\n",
      "==================================================================\n",
      "Model:              OLS              Adj. R-squared:     0.226    \n",
      "Dependent Variable: y                AIC:                5443.4275\n",
      "Date:               2020-02-05 02:57 BIC:                5661.6256\n",
      "No. Observations:   4526             Log-Likelihood:     -2687.7  \n",
      "Df Model:           33               F-statistic:        41.11    \n",
      "Df Residuals:       4492             Prob (F-statistic): 1.02e-228\n",
      "R-squared:          0.232            Scale:              0.19346  \n",
      "--------------------------------------------------------------------\n",
      "           Coef.    Std.Err.      t       P>|t|     [0.025    0.975]\n",
      "--------------------------------------------------------------------\n",
      "x1         0.0001     0.0002     0.8328   0.4050   -0.0002    0.0004\n",
      "x2         0.0019     0.0001    13.0648   0.0000    0.0016    0.0022\n",
      "x3        -0.0004     0.0007    -0.5879   0.5566   -0.0019    0.0010\n",
      "x4        -0.0194     0.0009   -21.4388   0.0000   -0.0212   -0.0176\n",
      "x5         0.3038     0.0882     3.4441   0.0006    0.1309    0.4767\n",
      "x6         0.3322     0.0822     4.0398   0.0001    0.1710    0.4934\n",
      "x7         0.2855     0.0837     3.4119   0.0007    0.1214    0.4495\n",
      "x8         0.0786     0.0918     0.8562   0.3919   -0.1013    0.2585\n",
      "x9        -0.0372     0.0892    -0.4171   0.6766   -0.2121    0.1377\n",
      "x10        0.1009     0.0814     1.2399   0.2151   -0.0587    0.2606\n",
      "x11        0.3043     0.0800     3.8027   0.0001    0.1474    0.4612\n",
      "x12       -0.1361     0.0959    -1.4198   0.1557   -0.3241    0.0518\n",
      "x13       -0.2932     0.0961    -3.0497   0.0023   -0.4816   -0.1047\n",
      "x14        0.2532     0.0874     2.8976   0.0038    0.0819    0.4244\n",
      "x15        0.3499     0.0813     4.3033   0.0000    0.1905    0.5092\n",
      "x16        0.4632     0.0822     5.6386   0.0000    0.3022    0.6243\n",
      "x17       -0.4228     0.0959    -4.4085   0.0000   -0.6108   -0.2348\n",
      "x18       -0.2023     0.0940    -2.1516   0.0315   -0.3866   -0.0180\n",
      "x19        0.0388     0.0858     0.4517   0.6515   -0.1295    0.2070\n",
      "x20       -0.2641     0.0959    -2.7528   0.0059   -0.4521   -0.0760\n",
      "x21       -0.0868     0.0916    -0.9476   0.3434   -0.2664    0.0928\n",
      "x22        0.5221     0.0811     6.4413   0.0000    0.3632    0.6810\n",
      "x23        0.1214     0.0893     1.3597   0.1740   -0.0537    0.2965\n",
      "x24        0.4272     0.0790     5.4053   0.0000    0.2723    0.5822\n",
      "x25        0.2037     0.0874     2.3302   0.0198    0.0323    0.3750\n",
      "x26        0.3665     0.0847     4.3264   0.0000    0.2004    0.5326\n",
      "x27        0.0386     0.0901     0.4288   0.6681   -0.1380    0.2153\n",
      "x28        0.0155     0.0900     0.1717   0.8637   -0.1611    0.1920\n",
      "x29        0.4851     0.0818     5.9328   0.0000    0.3248    0.6454\n",
      "x30       -0.2063     0.0914    -2.2562   0.0241   -0.3855   -0.0270\n",
      "x31        0.1625     0.0857     1.8967   0.0579   -0.0055    0.3304\n",
      "x32        0.5023     0.0811     6.1937   0.0000    0.3433    0.6614\n",
      "x33        0.0814     0.0881     0.9236   0.3558   -0.0914    0.2541\n",
      "x34        0.2067     0.0813     2.5417   0.0111    0.0473    0.3661\n",
      "------------------------------------------------------------------\n",
      "Omnibus:              5542.015      Durbin-Watson:         0.551  \n",
      "Prob(Omnibus):        0.000         Jarque-Bera (JB):      324.608\n",
      "Skew:                 -0.220        Prob(JB):              0.000  \n",
      "Kurtosis:             1.764         Condition No.:         29708  \n",
      "==================================================================\n",
      "* The condition number is large (3e+04). This might indicate\n",
      "strong multicollinearity or other numerical problems.\n"
     ]
    }
   ],
   "source": [
    "\"\"\"Applying ststs model to identify the impacting variables using ordinary Least square method\"\"\"\n",
    "import statsmodels.api as sm\n",
    "logit_model=sm.OLS(y_new,X_new)\n",
    "result=logit_model.fit()\n",
    "print(result.summary2())"
   ]
  },
  {
   "cell_type": "markdown",
   "metadata": {},
   "source": [
    "<h2>Building a classifier</h2>"
   ]
  },
  {
   "cell_type": "code",
   "execution_count": 55,
   "metadata": {},
   "outputs": [],
   "source": [
    "from sklearn.model_selection import train_test_split\n",
    "from sklearn.metrics import confusion_matrix\n",
    "from sklearn.metrics import classification_report\n",
    "X_train, X_test, y_train, y_test = train_test_split(X_new, y_new, test_size=0.3, random_state=0)"
   ]
  },
  {
   "cell_type": "code",
   "execution_count": 56,
   "metadata": {},
   "outputs": [
    {
     "name": "stdout",
     "output_type": "stream",
     "text": [
      "Accuracy of logistic regression classifier on test set: 0.72\n",
      "[[453 240]\n",
      " [140 525]]\n",
      "              precision    recall  f1-score   support\n",
      "\n",
      "           0       0.76      0.65      0.70       693\n",
      "           1       0.69      0.79      0.73       665\n",
      "\n",
      "    accuracy                           0.72      1358\n",
      "   macro avg       0.73      0.72      0.72      1358\n",
      "weighted avg       0.73      0.72      0.72      1358\n",
      "\n"
     ]
    },
    {
     "name": "stderr",
     "output_type": "stream",
     "text": [
      "/Users/swathikiran/anaconda3/lib/python3.6/site-packages/sklearn/linear_model/_logistic.py:940: ConvergenceWarning: lbfgs failed to converge (status=1):\n",
      "STOP: TOTAL NO. of ITERATIONS REACHED LIMIT.\n",
      "\n",
      "Increase the number of iterations (max_iter) or scale the data as shown in:\n",
      "    https://scikit-learn.org/stable/modules/preprocessing.html\n",
      "Please also refer to the documentation for alternative solver options:\n",
      "    https://scikit-learn.org/stable/modules/linear_model.html#logistic-regression\n",
      "  extra_warning_msg=_LOGISTIC_SOLVER_CONVERGENCE_MSG)\n"
     ]
    }
   ],
   "source": [
    "\"\"\"Using Logistic Regression Classifer\"\"\"\n",
    "from sklearn.linear_model import LogisticRegression\n",
    "logitic_regressor = LogisticRegression()\n",
    "logitic_regressor.fit(X_train, y_train)\n",
    "y_pred = logitic_regressor.predict(X_test)\n",
    "print('Accuracy of logistic regression classifier on test set: {:.2f}'.format(logitic_regressor.score(X_test, y_test)))\n",
    "from sklearn.metrics import confusion_matrix\n",
    "confusion_matrix = confusion_matrix(y_test, y_pred)\n",
    "print(confusion_matrix)\n",
    "from sklearn.metrics import classification_report\n",
    "print(classification_report(y_test, y_pred))"
   ]
  },
  {
   "cell_type": "code",
   "execution_count": 57,
   "metadata": {},
   "outputs": [
    {
     "name": "stdout",
     "output_type": "stream",
     "text": [
      "Accuracy of Decision Tree classifier on test set: 0.93\n",
      "[[637  56]\n",
      " [ 41 624]]\n",
      "              precision    recall  f1-score   support\n",
      "\n",
      "           0       0.94      0.92      0.93       693\n",
      "           1       0.92      0.94      0.93       665\n",
      "\n",
      "    accuracy                           0.93      1358\n",
      "   macro avg       0.93      0.93      0.93      1358\n",
      "weighted avg       0.93      0.93      0.93      1358\n",
      "\n"
     ]
    }
   ],
   "source": [
    "\"\"\"Using Decision Tree Classifer\"\"\"\n",
    "from sklearn.tree import DecisionTreeClassifier\n",
    "dt = DecisionTreeClassifier()\n",
    "dt.fit(X_train, y_train)\n",
    "y_pred = dt.predict(X_test)\n",
    "print('Accuracy of Decision Tree classifier on test set: {:.2f}'.format(dt.score(X_test, y_test)))\n",
    "from sklearn.metrics import confusion_matrix\n",
    "confusion_matrix = confusion_matrix(y_test, y_pred)\n",
    "print(confusion_matrix)\n",
    "print(classification_report(y_test, y_pred))"
   ]
  },
  {
   "cell_type": "code",
   "execution_count": 58,
   "metadata": {},
   "outputs": [
    {
     "name": "stdout",
     "output_type": "stream",
     "text": [
      "Accuracy of Knn classifier on test set: 0.85\n",
      "[[511 182]\n",
      " [ 26 639]]\n",
      "              precision    recall  f1-score   support\n",
      "\n",
      "           0       0.95      0.74      0.83       693\n",
      "           1       0.78      0.96      0.86       665\n",
      "\n",
      "    accuracy                           0.85      1358\n",
      "   macro avg       0.86      0.85      0.85      1358\n",
      "weighted avg       0.87      0.85      0.85      1358\n",
      "\n"
     ]
    }
   ],
   "source": [
    "\"\"\"Using KNN Classifer\"\"\"\n",
    "from sklearn.neighbors import KNeighborsClassifier\n",
    "knn = KNeighborsClassifier(n_neighbors=3)\n",
    "knn.fit(X_train, y_train)\n",
    "y_pred = knn.predict(X_test)\n",
    "print('Accuracy of Knn classifier on test set: {:.2f}'.format(knn.score(X_test, y_test)))\n",
    "from sklearn.metrics import confusion_matrix\n",
    "confusion_matrix = confusion_matrix(y_test, y_pred)\n",
    "print(confusion_matrix)\n",
    "from sklearn.metrics import classification_report\n",
    "print(classification_report(y_test, y_pred))"
   ]
  },
  {
   "cell_type": "code",
   "execution_count": 59,
   "metadata": {},
   "outputs": [
    {
     "name": "stdout",
     "output_type": "stream",
     "text": [
      "Accuracy of Support Vector classifier on test set: 0.92\n",
      "[[654  39]\n",
      " [ 66 599]]\n",
      "              precision    recall  f1-score   support\n",
      "\n",
      "           0       0.91      0.94      0.93       693\n",
      "           1       0.94      0.90      0.92       665\n",
      "\n",
      "    accuracy                           0.92      1358\n",
      "   macro avg       0.92      0.92      0.92      1358\n",
      "weighted avg       0.92      0.92      0.92      1358\n",
      "\n"
     ]
    }
   ],
   "source": [
    "\"\"\"Using Support Vector Classifer\"\"\"\n",
    "from sklearn.svm import SVC\n",
    "svm_classifier = SVC(gamma='auto')\n",
    "svm_classifier.fit(X_train, y_train)\n",
    "y_pred = svm_classifier.predict(X_test)\n",
    "print('Accuracy of Support Vector classifier on test set: {:.2f}'.format(svm_classifier.score(X_test, y_test)))\n",
    "from sklearn.metrics import confusion_matrix\n",
    "confusion_matrix = confusion_matrix(y_test, y_pred)\n",
    "print(confusion_matrix)\n",
    "from sklearn.metrics import classification_report\n",
    "print(classification_report(y_test, y_pred))"
   ]
  },
  {
   "cell_type": "markdown",
   "metadata": {},
   "source": [
    "Support Vector and Decision Tree classifiers are classifying more accurately compared to other classifiers with F1 scores = 0.93"
   ]
  },
  {
   "cell_type": "code",
   "execution_count": null,
   "metadata": {},
   "outputs": [],
   "source": []
  }
 ],
 "metadata": {
  "kernelspec": {
   "display_name": "Python 3",
   "language": "python",
   "name": "python3"
  },
  "language_info": {
   "codemirror_mode": {
    "name": "ipython",
    "version": 3
   },
   "file_extension": ".py",
   "mimetype": "text/x-python",
   "name": "python",
   "nbconvert_exporter": "python",
   "pygments_lexer": "ipython3",
   "version": "3.6.5"
  }
 },
 "nbformat": 4,
 "nbformat_minor": 2
}
